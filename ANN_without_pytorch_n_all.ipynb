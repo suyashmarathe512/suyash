{
  "nbformat": 4,
  "nbformat_minor": 0,
  "metadata": {
    "colab": {
      "provenance": [],
      "authorship_tag": "ABX9TyMGpK0Hd2mp4O8A3rXK0DCS",
      "include_colab_link": true
    },
    "kernelspec": {
      "name": "python3",
      "display_name": "Python 3"
    },
    "language_info": {
      "name": "python"
    }
  },
  "cells": [
    {
      "cell_type": "markdown",
      "metadata": {
        "id": "view-in-github",
        "colab_type": "text"
      },
      "source": [
        "<a href=\"https://colab.research.google.com/github/suyashmarathe512/suyash/blob/main/ANN_without_pytorch_n_all.ipynb\" target=\"_parent\"><img src=\"https://colab.research.google.com/assets/colab-badge.svg\" alt=\"Open In Colab\"/></a>"
      ]
    },
    {
      "cell_type": "code",
      "source": [
        "import numpy as np"
      ],
      "metadata": {
        "id": "SH9wFmEW8X8o"
      },
      "execution_count": null,
      "outputs": []
    },
    {
      "cell_type": "code",
      "source": [
        "class NeuralNetwork:\n",
        "  def __init__(self, input_size, hidden_size, output_size):\n",
        "    self.W1 = np.random.randn(input_size, hidden_size)\n",
        "    self.b1 = np.zeros(hidden_size)\n",
        "    self.W2 = np.random.randn(hidden_size, output_size)\n",
        "    self.b2 = np.zeros(output_size)\n",
        "  def sigmoid(self, x):\n",
        "    return 1 / (1 + np.exp(-x))\n",
        "  def sigmoid_derivative(self, x):\n",
        "    return x * (1 - x)\n",
        "  def forward(self, X):\n",
        "    self.z1 = X @ self.W1 + self.b1\n",
        "    self.a1 = self.sigmoid(self.z1)\n",
        "    self.z2 = self.a1 @ self.W2 + self.b2\n",
        "    self.a2 = self.sigmoid(self.z2)\n",
        "    return self.a2\n",
        "  def backward(self, X, y, output):\n",
        "    self.output_error = y - output\n",
        "    self.output_delta = self.output_error * self.sigmoid_derivative(output)\n",
        "    self.hidden_error = self.output_delta @ self.W2.T\n",
        "    self.hidden_delta = self.hidden_error * self.sigmoid_derivative(self.a1)\n",
        "    self.W1 += X.T @ self.hidden_delta\n",
        "    self.b1 += np.sum(self.hidden_delta, axis=0)\n",
        "    self.W2 += self.a1.T @ self.output_delta\n",
        "    self.b2 += np.sum(self.output_delta, axis=0)\n",
        "  def train(self, X, y, epochs):\n",
        "    for i in range(epochs):\n",
        "      output = self.forward(X)\n",
        "      self.backward(X, y, output)\n",
        "  def predict(self, X):\n",
        "    return self.forward(X)"
      ],
      "metadata": {
        "id": "Be-FgmBD8b92"
      },
      "execution_count": null,
      "outputs": []
    },
    {
      "cell_type": "code",
      "source": [
        "# Define the input and output datasets\n",
        "X = np.array([[0, 0], [0, 1], [1, 0], [1, 1]])\n",
        "y = np.array([[0], [1], [1], [0]])"
      ],
      "metadata": {
        "id": "rOah9zRh9Feu"
      },
      "execution_count": null,
      "outputs": []
    },
    {
      "cell_type": "code",
      "source": [
        "nn = NeuralNetwork(2,4,1)"
      ],
      "metadata": {
        "id": "beFYQUgU9HE2"
      },
      "execution_count": null,
      "outputs": []
    },
    {
      "cell_type": "code",
      "source": [
        "nn.train(X, y, epochs=10000)\n",
        " # Use the trained neural network to make predictions on the same input dataset\n",
        "predictions = nn.predict(X)\n",
        " # Print the predictions\n",
        "print(predictions)"
      ],
      "metadata": {
        "colab": {
          "base_uri": "https://localhost:8080/"
        },
        "id": "q4e6BFEY_hTQ",
        "outputId": "ccadacfe-17a0-47ab-af01-e1166e4a90ac"
      },
      "execution_count": null,
      "outputs": [
        {
          "output_type": "stream",
          "name": "stdout",
          "text": [
            "[[0.01169533]\n",
            " [0.98943311]\n",
            " [0.98920707]\n",
            " [0.01042719]]\n"
          ]
        }
      ]
    },
    {
      "cell_type": "code",
      "source": [],
      "metadata": {
        "id": "qPaceaGh_m0M"
      },
      "execution_count": null,
      "outputs": []
    }
  ]
}