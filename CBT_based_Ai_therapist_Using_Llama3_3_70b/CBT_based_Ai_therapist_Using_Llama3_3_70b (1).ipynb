{
  "cells": [
    {
      "cell_type": "code",
      "execution_count": null,
      "metadata": {
        "colab": {
          "base_uri": "https://localhost:8080/"
        },
        "id": "yfpgbqZ_5TCW",
        "outputId": "0fa9c9cb-385a-4212-caf6-0dcf5cd12788"
      },
      "outputs": [
        {
          "name": "stdout",
          "output_type": "stream",
          "text": [
            "Requirement already satisfied: PyPDF2 in /usr/local/lib/python3.11/dist-packages (3.0.1)\n"
          ]
        }
      ],
      "source": [
        "!pip install PyPDF2"
      ]
    },
    {
      "cell_type": "code",
      "execution_count": null,
      "metadata": {
        "colab": {
          "base_uri": "https://localhost:8080/"
        },
        "id": "ANCnHfe7m-sR",
        "outputId": "2dfcc2db-95c1-45db-8092-4fe688c7fcc9"
      },
      "outputs": [
        {
          "name": "stderr",
          "output_type": "stream",
          "text": [
            "[nltk_data] Downloading package punkt to /root/nltk_data...\n",
            "[nltk_data]   Package punkt is already up-to-date!\n",
            "[nltk_data] Downloading package stopwords to /root/nltk_data...\n",
            "[nltk_data]   Package stopwords is already up-to-date!\n",
            "[nltk_data] Downloading package wordnet to /root/nltk_data...\n",
            "[nltk_data]   Package wordnet is already up-to-date!\n"
          ]
        },
        {
          "name": "stdout",
          "output_type": "stream",
          "text": [
            "Requirement already satisfied: PyPDF2 in /usr/local/lib/python3.11/dist-packages (3.0.1)\n",
            "Requirement already satisfied: pandas in /usr/local/lib/python3.11/dist-packages (2.2.2)\n",
            "Requirement already satisfied: numpy>=1.23.2 in /usr/local/lib/python3.11/dist-packages (from pandas) (2.0.2)\n",
            "Requirement already satisfied: python-dateutil>=2.8.2 in /usr/local/lib/python3.11/dist-packages (from pandas) (2.8.2)\n",
            "Requirement already satisfied: pytz>=2020.1 in /usr/local/lib/python3.11/dist-packages (from pandas) (2025.2)\n",
            "Requirement already satisfied: tzdata>=2022.7 in /usr/local/lib/python3.11/dist-packages (from pandas) (2025.2)\n",
            "Requirement already satisfied: six>=1.5 in /usr/local/lib/python3.11/dist-packages (from python-dateutil>=2.8.2->pandas) (1.17.0)\n"
          ]
        }
      ],
      "source": [
        "import numpy as np\n",
        "import pandas as pd\n",
        "import matplotlib.pyplot as plt\n",
        "import seaborn as sns\n",
        "import warnings\n",
        "import csv\n",
        "warnings.filterwarnings('ignore')\n",
        "# NLP Processing\n",
        "import nltk\n",
        "nltk.download('punkt')\n",
        "nltk.download('stopwords')\n",
        "nltk.download('wordnet')\n",
        "from nltk.corpus import stopwords\n",
        "from nltk.stem import WordNetLemmatizer\n",
        "import string\n",
        "!pip install PyPDF2 pandas\n",
        "from PyPDF2 import PdfReader\n",
        "from google.colab import files\n",
        "\n",
        "\n",
        "\n",
        "\n",
        "\n"
      ]
    },
    {
      "cell_type": "code",
      "execution_count": null,
      "metadata": {
        "colab": {
          "base_uri": "https://localhost:8080/"
        },
        "id": "A1HWqHt_5xgo",
        "outputId": "30394d5f-855d-4c3b-9947-db115fa57988"
      },
      "outputs": [
        {
          "name": "stdout",
          "output_type": "stream",
          "text": [
            "Drive already mounted at /content/drive; to attempt to forcibly remount, call drive.mount(\"/content/drive\", force_remount=True).\n"
          ]
        }
      ],
      "source": [
        "from google.colab import drive\n",
        "drive.mount('/content/drive')"
      ]
    },
    {
      "cell_type": "code",
      "execution_count": null,
      "metadata": {
        "colab": {
          "base_uri": "https://localhost:8080/",
          "height": 206
        },
        "id": "-B-weYjgm-pm",
        "outputId": "4407d5d0-886a-474b-8492-e73665cb82b4"
      },
      "outputs": [
        {
          "data": {
            "application/vnd.google.colaboratory.intrinsic+json": {
              "summary": "{\n  \"name\": \"df\",\n  \"rows\": 8627,\n  \"fields\": [\n    {\n      \"column\": \"statement\",\n      \"properties\": {\n        \"dtype\": \"string\",\n        \"num_unique_values\": 8503,\n        \"samples\": [\n          \"She thinks instead I should ask if I can read him how it has impacted me since this has happened. I don't know what to do. It's coming up so quickly and I'm feeling a twinge of anxiety as it gets closer. I keep telling myself I did everything I possibly could and that I should do what feels right to me even if it means I may feel like I'm going backwards at times. I also have to make a decision on if I want a permanent restraining order or a non violent contact order.\",\n          \"I am ending my life.. I am bored and I may not be a good person. I am jealous of many peopleI'm 40 so i had a good run. I only regret not giving me the chance to lovr love someone. So this is it\",\n          \"People talk about life having meaning as a wonderful thing, but I see it as an idiotic concept that is perpetuated by the most idiotic and unaware people. These people cannot get around the fact that life has no meaning, so they not only feel like they have to lie to themselves, but also lie to everyone else in order to make them believe their absurdity so they will verify their own views on human existence.The ideologies that center around human life having cosmic meaning are built on lies upon lies. Meaning is not brought upon a person the moment they are born, unlike what some people might want you to believe. The moment you are born, your life has just as much meaning as a rock or a pile of dirt, because everything in the universe is just piles of matter from the moment they come into existence to the moment they are destroyed.Consciousness is the only difference between living matter and inanimate matter. But being conscious does not change the fact that our existence is meaningless, it only means that we have the ability to comprehend our meaningless existence.All of our abilities, accomplishments, goals, and dreams do not change the fact that our lives are meaningless. It does not matter what we do with our lives to try and prove our worth as humans, none of that causes our existence to have meaning. We could invent lightspeed space travel, immortality, or even time travel and that still will not make us anything more than meaningless creatures that have accomplished extraordinary things.No matter how it makes us feel, humans, along with all other living creatures, are just things - things that just so happen to be conscious, but things none the less; and no matter how hard we try to not think about it, this is a fact of life that cannot be changed with lies and idealistic thinking. Life having meaning is a horrible lie\"\n        ],\n        \"semantic_type\": \"\",\n        \"description\": \"\"\n      }\n    },\n    {\n      \"column\": \"status\",\n      \"properties\": {\n        \"dtype\": \"category\",\n        \"num_unique_values\": 7,\n        \"samples\": [\n          \"Depression\",\n          \"Normal\",\n          \"Stress\"\n        ],\n        \"semantic_type\": \"\",\n        \"description\": \"\"\n      }\n    }\n  ]\n}",
              "type": "dataframe",
              "variable_name": "df"
            },
            "text/html": [
              "\n",
              "  <div id=\"df-50ea29b4-8b58-4521-8028-212f04a0b612\" class=\"colab-df-container\">\n",
              "    <div>\n",
              "<style scoped>\n",
              "    .dataframe tbody tr th:only-of-type {\n",
              "        vertical-align: middle;\n",
              "    }\n",
              "\n",
              "    .dataframe tbody tr th {\n",
              "        vertical-align: top;\n",
              "    }\n",
              "\n",
              "    .dataframe thead th {\n",
              "        text-align: right;\n",
              "    }\n",
              "</style>\n",
              "<table border=\"1\" class=\"dataframe\">\n",
              "  <thead>\n",
              "    <tr style=\"text-align: right;\">\n",
              "      <th></th>\n",
              "      <th>statement</th>\n",
              "      <th>status</th>\n",
              "    </tr>\n",
              "  </thead>\n",
              "  <tbody>\n",
              "    <tr>\n",
              "      <th>0</th>\n",
              "      <td>Just as the the title says. I feel like one is...</td>\n",
              "      <td>Depression</td>\n",
              "    </tr>\n",
              "    <tr>\n",
              "      <th>1</th>\n",
              "      <td>a blackened sky encroached tugging behind it m...</td>\n",
              "      <td>Depression</td>\n",
              "    </tr>\n",
              "    <tr>\n",
              "      <th>2</th>\n",
              "      <td>It gives you insomnia, which in turn makes you...</td>\n",
              "      <td>Depression</td>\n",
              "    </tr>\n",
              "    <tr>\n",
              "      <th>3</th>\n",
              "      <td>Hello all, I'm a new submitter to this channel...</td>\n",
              "      <td>Normal</td>\n",
              "    </tr>\n",
              "    <tr>\n",
              "      <th>4</th>\n",
              "      <td>Thank God the CB is over for Eid</td>\n",
              "      <td>Normal</td>\n",
              "    </tr>\n",
              "  </tbody>\n",
              "</table>\n",
              "</div>\n",
              "    <div class=\"colab-df-buttons\">\n",
              "\n",
              "  <div class=\"colab-df-container\">\n",
              "    <button class=\"colab-df-convert\" onclick=\"convertToInteractive('df-50ea29b4-8b58-4521-8028-212f04a0b612')\"\n",
              "            title=\"Convert this dataframe to an interactive table.\"\n",
              "            style=\"display:none;\">\n",
              "\n",
              "  <svg xmlns=\"http://www.w3.org/2000/svg\" height=\"24px\" viewBox=\"0 -960 960 960\">\n",
              "    <path d=\"M120-120v-720h720v720H120Zm60-500h600v-160H180v160Zm220 220h160v-160H400v160Zm0 220h160v-160H400v160ZM180-400h160v-160H180v160Zm440 0h160v-160H620v160ZM180-180h160v-160H180v160Zm440 0h160v-160H620v160Z\"/>\n",
              "  </svg>\n",
              "    </button>\n",
              "\n",
              "  <style>\n",
              "    .colab-df-container {\n",
              "      display:flex;\n",
              "      gap: 12px;\n",
              "    }\n",
              "\n",
              "    .colab-df-convert {\n",
              "      background-color: #E8F0FE;\n",
              "      border: none;\n",
              "      border-radius: 50%;\n",
              "      cursor: pointer;\n",
              "      display: none;\n",
              "      fill: #1967D2;\n",
              "      height: 32px;\n",
              "      padding: 0 0 0 0;\n",
              "      width: 32px;\n",
              "    }\n",
              "\n",
              "    .colab-df-convert:hover {\n",
              "      background-color: #E2EBFA;\n",
              "      box-shadow: 0px 1px 2px rgba(60, 64, 67, 0.3), 0px 1px 3px 1px rgba(60, 64, 67, 0.15);\n",
              "      fill: #174EA6;\n",
              "    }\n",
              "\n",
              "    .colab-df-buttons div {\n",
              "      margin-bottom: 4px;\n",
              "    }\n",
              "\n",
              "    [theme=dark] .colab-df-convert {\n",
              "      background-color: #3B4455;\n",
              "      fill: #D2E3FC;\n",
              "    }\n",
              "\n",
              "    [theme=dark] .colab-df-convert:hover {\n",
              "      background-color: #434B5C;\n",
              "      box-shadow: 0px 1px 3px 1px rgba(0, 0, 0, 0.15);\n",
              "      filter: drop-shadow(0px 1px 2px rgba(0, 0, 0, 0.3));\n",
              "      fill: #FFFFFF;\n",
              "    }\n",
              "  </style>\n",
              "\n",
              "    <script>\n",
              "      const buttonEl =\n",
              "        document.querySelector('#df-50ea29b4-8b58-4521-8028-212f04a0b612 button.colab-df-convert');\n",
              "      buttonEl.style.display =\n",
              "        google.colab.kernel.accessAllowed ? 'block' : 'none';\n",
              "\n",
              "      async function convertToInteractive(key) {\n",
              "        const element = document.querySelector('#df-50ea29b4-8b58-4521-8028-212f04a0b612');\n",
              "        const dataTable =\n",
              "          await google.colab.kernel.invokeFunction('convertToInteractive',\n",
              "                                                    [key], {});\n",
              "        if (!dataTable) return;\n",
              "\n",
              "        const docLinkHtml = 'Like what you see? Visit the ' +\n",
              "          '<a target=\"_blank\" href=https://colab.research.google.com/notebooks/data_table.ipynb>data table notebook</a>'\n",
              "          + ' to learn more about interactive tables.';\n",
              "        element.innerHTML = '';\n",
              "        dataTable['output_type'] = 'display_data';\n",
              "        await google.colab.output.renderOutput(dataTable, element);\n",
              "        const docLink = document.createElement('div');\n",
              "        docLink.innerHTML = docLinkHtml;\n",
              "        element.appendChild(docLink);\n",
              "      }\n",
              "    </script>\n",
              "  </div>\n",
              "\n",
              "\n",
              "<div id=\"df-68f2ce78-f74e-434c-8ee9-3af13b22ee69\">\n",
              "  <button class=\"colab-df-quickchart\" onclick=\"quickchart('df-68f2ce78-f74e-434c-8ee9-3af13b22ee69')\"\n",
              "            title=\"Suggest charts\"\n",
              "            style=\"display:none;\">\n",
              "\n",
              "<svg xmlns=\"http://www.w3.org/2000/svg\" height=\"24px\"viewBox=\"0 0 24 24\"\n",
              "     width=\"24px\">\n",
              "    <g>\n",
              "        <path d=\"M19 3H5c-1.1 0-2 .9-2 2v14c0 1.1.9 2 2 2h14c1.1 0 2-.9 2-2V5c0-1.1-.9-2-2-2zM9 17H7v-7h2v7zm4 0h-2V7h2v10zm4 0h-2v-4h2v4z\"/>\n",
              "    </g>\n",
              "</svg>\n",
              "  </button>\n",
              "\n",
              "<style>\n",
              "  .colab-df-quickchart {\n",
              "      --bg-color: #E8F0FE;\n",
              "      --fill-color: #1967D2;\n",
              "      --hover-bg-color: #E2EBFA;\n",
              "      --hover-fill-color: #174EA6;\n",
              "      --disabled-fill-color: #AAA;\n",
              "      --disabled-bg-color: #DDD;\n",
              "  }\n",
              "\n",
              "  [theme=dark] .colab-df-quickchart {\n",
              "      --bg-color: #3B4455;\n",
              "      --fill-color: #D2E3FC;\n",
              "      --hover-bg-color: #434B5C;\n",
              "      --hover-fill-color: #FFFFFF;\n",
              "      --disabled-bg-color: #3B4455;\n",
              "      --disabled-fill-color: #666;\n",
              "  }\n",
              "\n",
              "  .colab-df-quickchart {\n",
              "    background-color: var(--bg-color);\n",
              "    border: none;\n",
              "    border-radius: 50%;\n",
              "    cursor: pointer;\n",
              "    display: none;\n",
              "    fill: var(--fill-color);\n",
              "    height: 32px;\n",
              "    padding: 0;\n",
              "    width: 32px;\n",
              "  }\n",
              "\n",
              "  .colab-df-quickchart:hover {\n",
              "    background-color: var(--hover-bg-color);\n",
              "    box-shadow: 0 1px 2px rgba(60, 64, 67, 0.3), 0 1px 3px 1px rgba(60, 64, 67, 0.15);\n",
              "    fill: var(--button-hover-fill-color);\n",
              "  }\n",
              "\n",
              "  .colab-df-quickchart-complete:disabled,\n",
              "  .colab-df-quickchart-complete:disabled:hover {\n",
              "    background-color: var(--disabled-bg-color);\n",
              "    fill: var(--disabled-fill-color);\n",
              "    box-shadow: none;\n",
              "  }\n",
              "\n",
              "  .colab-df-spinner {\n",
              "    border: 2px solid var(--fill-color);\n",
              "    border-color: transparent;\n",
              "    border-bottom-color: var(--fill-color);\n",
              "    animation:\n",
              "      spin 1s steps(1) infinite;\n",
              "  }\n",
              "\n",
              "  @keyframes spin {\n",
              "    0% {\n",
              "      border-color: transparent;\n",
              "      border-bottom-color: var(--fill-color);\n",
              "      border-left-color: var(--fill-color);\n",
              "    }\n",
              "    20% {\n",
              "      border-color: transparent;\n",
              "      border-left-color: var(--fill-color);\n",
              "      border-top-color: var(--fill-color);\n",
              "    }\n",
              "    30% {\n",
              "      border-color: transparent;\n",
              "      border-left-color: var(--fill-color);\n",
              "      border-top-color: var(--fill-color);\n",
              "      border-right-color: var(--fill-color);\n",
              "    }\n",
              "    40% {\n",
              "      border-color: transparent;\n",
              "      border-right-color: var(--fill-color);\n",
              "      border-top-color: var(--fill-color);\n",
              "    }\n",
              "    60% {\n",
              "      border-color: transparent;\n",
              "      border-right-color: var(--fill-color);\n",
              "    }\n",
              "    80% {\n",
              "      border-color: transparent;\n",
              "      border-right-color: var(--fill-color);\n",
              "      border-bottom-color: var(--fill-color);\n",
              "    }\n",
              "    90% {\n",
              "      border-color: transparent;\n",
              "      border-bottom-color: var(--fill-color);\n",
              "    }\n",
              "  }\n",
              "</style>\n",
              "\n",
              "  <script>\n",
              "    async function quickchart(key) {\n",
              "      const quickchartButtonEl =\n",
              "        document.querySelector('#' + key + ' button');\n",
              "      quickchartButtonEl.disabled = true;  // To prevent multiple clicks.\n",
              "      quickchartButtonEl.classList.add('colab-df-spinner');\n",
              "      try {\n",
              "        const charts = await google.colab.kernel.invokeFunction(\n",
              "            'suggestCharts', [key], {});\n",
              "      } catch (error) {\n",
              "        console.error('Error during call to suggestCharts:', error);\n",
              "      }\n",
              "      quickchartButtonEl.classList.remove('colab-df-spinner');\n",
              "      quickchartButtonEl.classList.add('colab-df-quickchart-complete');\n",
              "    }\n",
              "    (() => {\n",
              "      let quickchartButtonEl =\n",
              "        document.querySelector('#df-68f2ce78-f74e-434c-8ee9-3af13b22ee69 button');\n",
              "      quickchartButtonEl.style.display =\n",
              "        google.colab.kernel.accessAllowed ? 'block' : 'none';\n",
              "    })();\n",
              "  </script>\n",
              "</div>\n",
              "\n",
              "    </div>\n",
              "  </div>\n"
            ],
            "text/plain": [
              "                                           statement      status\n",
              "0  Just as the the title says. I feel like one is...  Depression\n",
              "1  a blackened sky encroached tugging behind it m...  Depression\n",
              "2  It gives you insomnia, which in turn makes you...  Depression\n",
              "3  Hello all, I'm a new submitter to this channel...      Normal\n",
              "4                   Thank God the CB is over for Eid      Normal"
            ]
          },
          "execution_count": 36,
          "metadata": {},
          "output_type": "execute_result"
        }
      ],
      "source": [
        "df = pd.read_csv('/content/drive/MyDrive/Combined Data.csv', on_bad_lines='skip')\n",
        "df= df.sample(n=8627, random_state=42)\n",
        "\n",
        "df= df.drop(columns=['Unnamed: 0'])\n",
        "df.reset_index(drop=True, inplace=True)\n",
        "\n",
        "df.head()"
      ]
    },
    {
      "cell_type": "code",
      "execution_count": null,
      "metadata": {
        "colab": {
          "base_uri": "https://localhost:8080/"
        },
        "id": "FT9rNWwIm-m1",
        "outputId": "5b996945-d6d5-4251-cd90-41c48330043e"
      },
      "outputs": [
        {
          "name": "stdout",
          "output_type": "stream",
          "text": [
            "statement    0\n",
            "status       0\n",
            "dtype: int64\n",
            "w\n"
          ]
        }
      ],
      "source": [
        "mode_status = df['statement'].mode()[0]\n",
        "df['statement'].fillna(mode_status, inplace=True)\n",
        "print(df.isnull().sum())\n",
        "print(mode_status[0])"
      ]
    },
    {
      "cell_type": "code",
      "execution_count": null,
      "metadata": {
        "id": "kkzGjFDRm-kD"
      },
      "outputs": [],
      "source": [
        "# Text preprocessing function\n",
        "def clean_text(text):\n",
        "    text = text.lower() # lowercase\n",
        "    text = \"\".join([char for char in text if char not in string.punctuation]) # remove punctuation\n",
        "    text = \" \".join([word for word in text.split() if word not in stopwords.words('english')]) # remove stopwords\n",
        "    lemmatizer = WordNetLemmatizer() # lemmatize the words\n",
        "    text = \" \".join([lemmatizer.lemmatize(word) for word in text.split()])\n",
        "    return text"
      ]
    },
    {
      "cell_type": "code",
      "execution_count": null,
      "metadata": {
        "id": "MZiJMBPsm-gw"
      },
      "outputs": [],
      "source": [
        "df['clean_statement'] = df['statement'].apply(clean_text)"
      ]
    },
    {
      "cell_type": "code",
      "execution_count": null,
      "metadata": {
        "id": "-Wv1W9Ytm-d1"
      },
      "outputs": [],
      "source": [
        "# Example: TF-IDF Vectorization\n",
        "from sklearn.feature_extraction.text import TfidfVectorizer\n",
        "\n",
        "vectorizer = TfidfVectorizer()\n",
        "X = vectorizer.fit_transform(df['clean_statement'])\n",
        "y = df['status']"
      ]
    },
    {
      "cell_type": "code",
      "execution_count": null,
      "metadata": {
        "id": "aey2iW9Ym-aw"
      },
      "outputs": [],
      "source": [
        "from sklearn.model_selection import train_test_split, cross_val_score, GridSearchCV\n",
        "from sklearn.linear_model import LogisticRegression\n",
        "from sklearn.ensemble import RandomForestClassifier\n",
        "from sklearn.svm import SVC\n",
        "from sklearn.naive_bayes import MultinomialNB\n",
        "from sklearn.metrics import  accuracy_score, precision_score, recall_score, f1_score, confusion_matrix, roc_curve, auc , classification_report\n",
        "from sklearn.feature_extraction.text import TfidfVectorizer\n",
        "from sklearn.pipeline import make_pipeline"
      ]
    },
    {
      "cell_type": "code",
      "execution_count": null,
      "metadata": {
        "id": "JpaGD7Y8m-X7"
      },
      "outputs": [],
      "source": [
        "# Split data\n",
        "X_train, X_test, y_train, y_test = train_test_split(X, y, test_size=0.2, random_state=42)"
      ]
    },
    {
      "cell_type": "code",
      "execution_count": null,
      "metadata": {
        "id": "wyoepCQZoLPl"
      },
      "outputs": [],
      "source": [
        "import joblib"
      ]
    },
    {
      "cell_type": "code",
      "execution_count": null,
      "metadata": {
        "colab": {
          "background_save": true,
          "base_uri": "https://localhost:8080/"
        },
        "id": "Y-idUucsm-Uy",
        "outputId": "0ef3abdb-1a87-499f-bf41-5759552848b1"
      },
      "outputs": [
        {
          "name": "stdout",
          "output_type": "stream",
          "text": [
            "Training model...\n",
            "Model trained and saved.\n",
            "Accuracy: 0.7271147161066048\n",
            "                      precision    recall  f1-score   support\n",
            "\n",
            "             Anxiety       0.78      0.83      0.80       121\n",
            "             Bipolar       0.82      0.71      0.76        89\n",
            "          Depression       0.64      0.74      0.69       514\n",
            "              Normal       0.83      0.94      0.88       540\n",
            "Personality disorder       0.92      0.26      0.40        43\n",
            "              Stress       0.62      0.29      0.39        83\n",
            "            Suicidal       0.65      0.51      0.57       336\n",
            "\n",
            "            accuracy                           0.73      1726\n",
            "           macro avg       0.75      0.61      0.64      1726\n",
            "        weighted avg       0.72      0.73      0.71      1726\n",
            "\n"
          ]
        }
      ],
      "source": [
        "# Models to evaluate\n",
        "model = {'SVM': SVC()}\n",
        "# Hyperparameter tuning and cross-validation\n",
        "\n",
        "\n",
        "param_grid = {'C': [0.1, 1, 10], 'kernel': ['linear', 'rbf']}\n",
        "\n",
        "\n",
        "\n",
        "if os.path.exists('/content/C:/Users/lenovo/Desktop/Projects/sentiment_svc_model.joblib'):\n",
        "    # Load the saved model\n",
        "    loaded_model = joblib.load('/content/C:/Users/lenovo/Desktop/Projects/sentiment_svc_model.joblib')\n",
        "    # Check if the loaded model is fitted by looking for the 'best_estimator_' attribute\n",
        "    if hasattr(loaded_model, 'best_estimator_'):\n",
        "        print(\"Loaded pre-trained model.\")\n",
        "    else:\n",
        "        print(\"Model file exists but does not contain a fitted model. Training...\")\n",
        "        loaded_model.fit(X_train, y_train)  # Fit the loaded model if it's not already fitted\n",
        "        joblib.dump(loaded_model, '/content/C:/Users/lenovo/Desktop/Projects')  # Save the fitted model\n",
        "        print(\"Model trained and saved.\")\n",
        "else:\n",
        "    # If the model doesn't exist, train and save it\n",
        "    print(\"Training model...\")\n",
        "    grid_search = GridSearchCV(SVC(), param_grid, cv=5, scoring='accuracy', refit=True)\n",
        "    grid_search.fit(X_train, y_train)\n",
        "    joblib.dump(grid_search, 'sentiment_svc_model.joblib')\n",
        "    loaded_model = grid_search\n",
        "    print(\"Model trained and saved.\")\n",
        "\n",
        "\n",
        "y_pred = loaded_model.predict(X_test)\n",
        "accuracy = accuracy_score(y_test, y_pred)\n",
        "\n",
        "print(f\"Accuracy: {accuracy}\")\n",
        "print(classification_report(y_test, y_pred))\n"
      ]
    },
    {
      "cell_type": "code",
      "execution_count": null,
      "metadata": {
        "colab": {
          "base_uri": "https://localhost:8080/",
          "height": 17
        },
        "id": "lnuh1TQJaDkF",
        "outputId": "b21c1bc2-7464-4101-f5d0-8cea91bf2c10"
      },
      "outputs": [
        {
          "data": {
            "application/javascript": [
              "\n",
              "    async function download(id, filename, size) {\n",
              "      if (!google.colab.kernel.accessAllowed) {\n",
              "        return;\n",
              "      }\n",
              "      const div = document.createElement('div');\n",
              "      const label = document.createElement('label');\n",
              "      label.textContent = `Downloading \"${filename}\": `;\n",
              "      div.appendChild(label);\n",
              "      const progress = document.createElement('progress');\n",
              "      progress.max = size;\n",
              "      div.appendChild(progress);\n",
              "      document.body.appendChild(div);\n",
              "\n",
              "      const buffers = [];\n",
              "      let downloaded = 0;\n",
              "\n",
              "      const channel = await google.colab.kernel.comms.open(id);\n",
              "      // Send a message to notify the kernel that we're ready.\n",
              "      channel.send({})\n",
              "\n",
              "      for await (const message of channel.messages) {\n",
              "        // Send a message to notify the kernel that we're ready.\n",
              "        channel.send({})\n",
              "        if (message.buffers) {\n",
              "          for (const buffer of message.buffers) {\n",
              "            buffers.push(buffer);\n",
              "            downloaded += buffer.byteLength;\n",
              "            progress.value = downloaded;\n",
              "          }\n",
              "        }\n",
              "      }\n",
              "      const blob = new Blob(buffers, {type: 'application/binary'});\n",
              "      const a = document.createElement('a');\n",
              "      a.href = window.URL.createObjectURL(blob);\n",
              "      a.download = filename;\n",
              "      div.appendChild(a);\n",
              "      a.click();\n",
              "      div.remove();\n",
              "    }\n",
              "  "
            ],
            "text/plain": [
              "<IPython.core.display.Javascript object>"
            ]
          },
          "metadata": {},
          "output_type": "display_data"
        },
        {
          "data": {
            "application/javascript": [
              "download(\"download_a8e00656-c8cd-49cd-bc6e-e384ba5c4705\", \"sentiment_svc_model.joblib\", 3410231)"
            ],
            "text/plain": [
              "<IPython.core.display.Javascript object>"
            ]
          },
          "metadata": {},
          "output_type": "display_data"
        }
      ],
      "source": [
        "from google.colab import files\n",
        "\n",
        "\n",
        "files.download(\"sentiment_svc_model.joblib\")\n"
      ]
    },
    {
      "cell_type": "code",
      "execution_count": null,
      "metadata": {
        "id": "pH5RwybEs27d"
      },
      "outputs": [],
      "source": [
        "!pip install langchain_groq langchain_core langchain_community pypdf  chromadb sentence_transformers"
      ]
    },
    {
      "cell_type": "code",
      "execution_count": null,
      "metadata": {
        "id": "EE3g0X0xJ67s"
      },
      "outputs": [],
      "source": [
        "from langchain_groq import ChatGroq\n",
        "llm = ChatGroq(\n",
        "    temperature = 0,\n",
        "    groq_api_key = \"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\",\n",
        "    model_name = \"llama-3.3-70b-versatile\"\n",
        ")\n",
        "result = llm.invoke(\"Who is lord Shiva? Answer in one line.\")\n",
        "print(result.content)\n"
      ]
    },
    {
      "cell_type": "code",
      "execution_count": null,
      "metadata": {
        "id": "4k6FsRGkNtZA"
      },
      "outputs": [],
      "source": [
        "import chromadb\n",
        "from langchain.embeddings import HuggingFaceBgeEmbeddings\n",
        "from langchain.document_loaders import PyPDFLoader, DirectoryLoader\n",
        "from langchain.vectorstores import Chroma\n",
        "from langchain.chains import RetrievalQA\n",
        "from langchain.prompts import PromptTemplate\n",
        "from langchain.text_splitter import RecursiveCharacterTextSplitter\n",
        "import os\n",
        "\n",
        "db_path = \"/content/chroma_db\"\n",
        "def initialize_llm():\n",
        "  llm = ChatGroq(\n",
        "    temperature = 0,\n",
        "    groq_api_key = \"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\",\n",
        "    model_name = \"llama-3.3-70b-versatile\"\n",
        ")\n",
        "  return llm\n",
        "\n",
        "def create_vector_db():\n",
        "  \"\"\"Creates a vector database from a PDF file.\"\"\"\n",
        "  # Create a directory to store the PDF temporarily\n",
        "  pdf_dir = \"/content/drive/MyDrive/pdf_docs\"\n",
        "  loader = DirectoryLoader(pdf_dir, loader_cls=PyPDFLoader) # pass the directory\n",
        "  documents = loader.load()\n",
        "  text_splitter = RecursiveCharacterTextSplitter(chunk_size = 500, chunk_overlap = 50)\n",
        "  texts = text_splitter.split_documents(documents)\n",
        "  embeddings = HuggingFaceBgeEmbeddings(model_name = 'sentence-transformers/all-MiniLM-L6-v2')\n",
        "\n",
        "\n",
        "  client = chromadb.PersistentClient(path=\"/path/to/your/local/directory\")\n",
        "  vector_db = client.from_documents(texts, embeddings)\n",
        "  vector_db.persist()\n",
        "  print(\"ChromaDB created and data saved\")\n",
        "  return vector_db\n",
        "\n",
        "def setup_qa_chain(vector_db, llm):\n",
        "  retriever = vector_db.as_retriever()\n",
        "  prompt_templates = \"\"\" You are a compassionate mental health chatbot. Respond thoughtfully to the following question:\n",
        "    {context}\n",
        "    User: {question}\n",
        "    Chatbot: \"\"\"\n",
        "  PROMPT = PromptTemplate(template = prompt_templates, input_variables = ['context', 'question'])\n",
        "\n",
        "  qa_chain = RetrievalQA.from_chain_type(\n",
        "      llm = llm,\n",
        "      chain_type = \"stuff\",\n",
        "      retriever = retriever,\n",
        "      chain_type_kwargs = {\"prompt\": PROMPT}\n",
        "  )\n",
        "  return qa_chain\n",
        "\n",
        "\n"
      ]
    },
    {
      "cell_type": "code",
      "execution_count": null,
      "metadata": {
        "id": "hY_Gv9-OPSO0"
      },
      "outputs": [],
      "source": [
        "def main():\n",
        "  print(\"Intializing Chatbot.........\")\n",
        "\n",
        "  llm = initialize_llm()\n",
        "\n",
        "  db_path = \"/content/chroma_db\"\n",
        "\n",
        "  if not os.path.exists(db_path):\n",
        "    vector_db  = create_vector_db()\n",
        "    # check if vector_db is None\n",
        "    if vector_db is None:\n",
        "      return\n",
        "  else:\n",
        "    embeddings = HuggingFaceBgeEmbeddings(model_name = 'sentence-transformers/all-MiniLM-L6-v2')\n",
        "    vector_db = Chroma(persist_directory=db_path, embedding_function=embeddings)\n",
        "  qa_chain = setup_qa_chain(vector_db, llm)\n",
        "  query = \"\" # initialize query to avoid errors in the first loop\n",
        "\n",
        "  while True:\n",
        "    query = input(\"\\nHuman: \")\n",
        "    if query.lower()  == \"exit\":\n",
        "      print(\"Chatbot: Take Care of yourself, Goodbye!\")\n",
        "      break\n",
        "\n",
        "        # Clean the user input\n",
        "    cleaned_input = clean_text(query)\n",
        "\n",
        "        # Vectorize the new data using the same vectorizer\n",
        "    X_new = vectorizer.transform([cleaned_input])\n",
        "\n",
        "        # Make predictions\n",
        "    new_prediction = loaded_model.predict(X_new)\n",
        "\n",
        "        # Print the prediction\n",
        "    print(f\" Emotional Status : {new_prediction[0]}\")  # Assuming the prediction is a single value\n",
        "\n",
        "    response = qa_chain.run(query)\n",
        "    print(f\"Chatbot: {response}\")\n",
        "if __name__ == \"__main__\":\n",
        "  main()\n"
      ]
    },
    {
      "cell_type": "code",
      "execution_count": null,
      "metadata": {
        "id": "0y0jH3ckj9gh"
      },
      "outputs": [],
      "source": []
    }
  ],
  "metadata": {
    "colab": {
      "provenance": []
    },
    "kernelspec": {
      "display_name": "Python 3",
      "name": "python3"
    },
    "language_info": {
      "name": "python"
    }
  },
  "nbformat": 4,
  "nbformat_minor": 0
}