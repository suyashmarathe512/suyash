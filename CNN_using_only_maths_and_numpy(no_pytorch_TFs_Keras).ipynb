{
  "cells": [
    {
      "cell_type": "markdown",
      "metadata": {
        "id": "view-in-github",
        "colab_type": "text"
      },
      "source": [
        "<a href=\"https://colab.research.google.com/github/suyashmarathe512/suyash/blob/main/CNN_using_only_maths_and_numpy(no_pytorch_TFs_Keras).ipynb\" target=\"_parent\"><img src=\"https://colab.research.google.com/assets/colab-badge.svg\" alt=\"Open In Colab\"/></a>"
      ]
    },
    {
      "cell_type": "code",
      "execution_count": 23,
      "metadata": {
        "colab": {
          "base_uri": "https://localhost:8080/"
        },
        "id": "GEO1JK52Hwzw",
        "outputId": "20f15eb2-afdb-4c3b-b5bd-47d072e6fd4f"
      },
      "outputs": [
        {
          "output_type": "execute_result",
          "data": {
            "text/plain": [
              "label    int64\n",
              "1x1      int64\n",
              "1x2      int64\n",
              "1x3      int64\n",
              "1x4      int64\n",
              "         ...  \n",
              "28x24    int64\n",
              "28x25    int64\n",
              "28x26    int64\n",
              "28x27    int64\n",
              "28x28    int64\n",
              "Length: 785, dtype: object"
            ]
          },
          "metadata": {},
          "execution_count": 23
        }
      ],
      "source": [
        "import numpy as np\n",
        "import pandas as pd\n",
        "from matplotlib import pyplot as plt\n",
        "\n",
        "data = pd.read_csv('mnist_train.csv')\n",
        "data.dtypes"
      ]
    },
    {
      "cell_type": "code",
      "source": [
        "data = np.array(data)\n",
        "m, n = data.shape\n",
        "np.random.shuffle(data) # shuffle before splitting into dev and training sets\n",
        "\n",
        "data_dev = data[0:1000].T\n",
        "Y_dev = data_dev[0]\n",
        "X_dev = data_dev[1:n]\n",
        "X_dev = X_dev / 255.\n",
        "\n",
        "data_train = data[1000:m].T\n",
        "Y_train = data_train[0]\n",
        "X_train = data_train[1:n]\n",
        "X_train = X_train / 255.\n",
        "_,m_train = X_train.shape\n"
      ],
      "metadata": {
        "id": "qBwx5e2QJyjf"
      },
      "execution_count": 24,
      "outputs": []
    },
    {
      "cell_type": "code",
      "source": [
        "Y_train"
      ],
      "metadata": {
        "colab": {
          "base_uri": "https://localhost:8080/"
        },
        "id": "60Jb5AHKNZjS",
        "outputId": "1a7cb451-33b7-4691-dba5-50a415009fcd"
      },
      "execution_count": 25,
      "outputs": [
        {
          "output_type": "execute_result",
          "data": {
            "text/plain": [
              "array([7, 2, 5, ..., 4, 0, 0])"
            ]
          },
          "metadata": {},
          "execution_count": 25
        }
      ]
    },
    {
      "cell_type": "markdown",
      "source": [
        "Our NN will have a simple two-layer architecture. Input layer  a[0]\n",
        "  will have 784 units corresponding to the 784 pixels in each 28x28 input image. A hidden layer  a[1]\n",
        "  will have 10 units with ReLU activation, and finally our output layer  a[2]\n",
        "  will have 10 units corresponding to the ten digit classes with softmax activation.\n",
        "\n",
        "*Forward propagation*\n",
        "\n",
        "Z[1]=W[1]X+b[1]\n",
        "\n",
        "A[1]=gReLU(Z[1]))\n",
        "\n",
        "Z[2]=W[2]A[1]+b[2]\n",
        "\n",
        "A[2]=gsoftmax(Z[2])\n",
        "\n",
        "*Backward propagation*\n",
        "\n",
        "dZ[2]=A[2]−Y\n",
        "\n",
        "dW[2]=1mdZ[2]A[1]T\n",
        "\n",
        "dB[2]=1mΣdZ[2]\n",
        "\n",
        "dZ[1]=W[2]TdZ[2].∗g[1]′(z[1])\n",
        "\n",
        "dW[1]=1mdZ[1]A[0]T\n",
        "\n",
        "dB[1]=1mΣdZ[1]\n",
        "\n",
        "*Parameter updates*\n",
        "\n",
        "W[2]:=W[2]−αdW[2]\n",
        "\n",
        "b[2]:=b[2]−αdb[2]\n",
        "\n",
        "W[1]:=W[1]−αdW[1]\n",
        "\n",
        "b[1]:=b[1]−αdb[1]\n",
        "\n",
        "*Vars and shapes*\n",
        "\n",
        "*Forward prop*\n",
        "\n",
        "A[0]=X\n",
        " : 784 x m\n",
        "\n",
        "Z[1]∼A[1]\n",
        " : 10 x m\n",
        "\n",
        "W[1]\n",
        " : 10 x 784 (as  W[1]A[0]∼Z[1]\n",
        " )\n",
        "\n",
        "B[1]\n",
        " : 10 x 1\n",
        "\n",
        "Z[2]∼A[2]\n",
        " : 10 x m\n",
        "\n",
        "W[1]\n",
        " : 10 x 10 (as  W[2]A[1]∼Z[2]\n",
        " )\n",
        "\n",
        "B[2]\n",
        " : 10 x 1\n",
        "\n",
        "*Backprop*\n",
        "\n",
        "dZ[2]\n",
        " : 10 x m (  A[2]\n",
        " )\n",
        "\n",
        "dW[2]\n",
        " : 10 x 10\n",
        "\n",
        "dB[2]\n",
        " : 10 x 1\n",
        "\n",
        "dZ[1]\n",
        " : 10 x m (  A[1]\n",
        " )\n",
        "\n",
        "dW[1]\n",
        " : 10 x 10\n",
        "\n",
        "dB[1]\n",
        " : 10 x 1\n"
      ],
      "metadata": {
        "id": "s49NVUcINkjY"
      }
    },
    {
      "cell_type": "code",
      "source": [
        "def init_params():\n",
        "    W1 = np.random.rand(10, 784) - 0.5\n",
        "    b1 = np.random.rand(10, 1) - 0.5\n",
        "    W2 = np.random.rand(10, 10) - 0.5\n",
        "    b2 = np.random.rand(10, 1) - 0.5\n",
        "    return W1, b1, W2, b2\n",
        "\n",
        "def ReLU(Z):\n",
        "    return np.maximum(Z, 0)\n",
        "\n",
        "def softmax(Z):\n",
        "    A = np.exp(Z) / sum(np.exp(Z))\n",
        "    return A\n",
        "\n",
        "def forward_prop(W1, b1, W2, b2, X):\n",
        "    Z1 = W1.dot(X) + b1\n",
        "    A1 = ReLU(Z1)\n",
        "    Z2 = W2.dot(A1) + b2\n",
        "    A2 = softmax(Z2)\n",
        "    return Z1, A1, Z2, A2\n",
        "\n",
        "def ReLU_deriv(Z):\n",
        "    return Z > 0\n",
        "\n",
        "def one_hot(Y):\n",
        "    one_hot_Y = np.zeros((Y.size, Y.max() + 1))\n",
        "    one_hot_Y[np.arange(Y.size), Y] = 1\n",
        "    one_hot_Y = one_hot_Y.T\n",
        "    return one_hot_Y\n",
        "\n",
        "def backward_prop(Z1, A1, Z2, A2, W1, W2, X, Y):\n",
        "    one_hot_Y = one_hot(Y)\n",
        "    dZ2 = A2 - one_hot_Y\n",
        "    dW2 = 1 / m * dZ2.dot(A1.T)\n",
        "    db2 = 1 / m * np.sum(dZ2)\n",
        "    dZ1 = W2.T.dot(dZ2) * ReLU_deriv(Z1)\n",
        "    dW1 = 1 / m * dZ1.dot(X.T)\n",
        "    db1 = 1 / m * np.sum(dZ1)\n",
        "    return dW1, db1, dW2, db2\n",
        "\n",
        "def update_params(W1, b1, W2, b2, dW1, db1, dW2, db2, alpha):\n",
        "    W1 = W1 - alpha * dW1\n",
        "    b1 = b1 - alpha * db1\n",
        "    W2 = W2 - alpha * dW2\n",
        "    b2 = b2 - alpha * db2\n",
        "    return W1, b1, W2, b2"
      ],
      "metadata": {
        "id": "RlT2ImaHNoQn"
      },
      "execution_count": 26,
      "outputs": []
    },
    {
      "cell_type": "code",
      "source": [
        "def get_predictions(A2):\n",
        "    return np.argmax(A2, 0)\n",
        "\n",
        "def get_accuracy(predictions, Y):\n",
        "    print(predictions, Y)\n",
        "    return np.sum(predictions == Y) / Y.size\n",
        "\n",
        "def gradient_descent(X, Y, alpha, iterations):\n",
        "    W1, b1, W2, b2 = init_params()\n",
        "    for i in range(iterations):\n",
        "        Z1, A1, Z2, A2 = forward_prop(W1, b1, W2, b2, X)\n",
        "        dW1, db1, dW2, db2 = backward_prop(Z1, A1, Z2, A2, W1, W2, X, Y)\n",
        "        W1, b1, W2, b2 = update_params(W1, b1, W2, b2, dW1, db1, dW2, db2, alpha)\n",
        "        if i % 10 == 0:\n",
        "            print(\"Iteration: \", i)\n",
        "            predictions = get_predictions(A2)\n",
        "            print(get_accuracy(predictions, Y))\n",
        "    return W1, b1, W2, b2"
      ],
      "metadata": {
        "id": "D8ybiFQvOMua"
      },
      "execution_count": 27,
      "outputs": []
    },
    {
      "cell_type": "code",
      "source": [
        "W1, b1, W2, b2 = gradient_descent(X_train, Y_train, 0.10, 500)"
      ],
      "metadata": {
        "colab": {
          "base_uri": "https://localhost:8080/"
        },
        "id": "QfBykivkOPWp",
        "outputId": "c61b5664-7950-4394-9cfc-02703439d369"
      },
      "execution_count": 28,
      "outputs": [
        {
          "output_type": "stream",
          "name": "stdout",
          "text": [
            "Iteration:  0\n",
            "[7 1 7 ... 7 7 7] [7 2 5 ... 4 0 0]\n",
            "0.09461016949152543\n",
            "Iteration:  10\n",
            "[5 0 3 ... 5 0 0] [7 2 5 ... 4 0 0]\n",
            "0.24596610169491526\n",
            "Iteration:  20\n",
            "[5 0 3 ... 0 0 0] [7 2 5 ... 4 0 0]\n",
            "0.30089830508474574\n",
            "Iteration:  30\n",
            "[5 0 3 ... 0 0 0] [7 2 5 ... 4 0 0]\n",
            "0.34372881355932206\n",
            "Iteration:  40\n",
            "[5 0 3 ... 0 0 0] [7 2 5 ... 4 0 0]\n",
            "0.38069491525423726\n",
            "Iteration:  50\n",
            "[5 2 3 ... 0 0 0] [7 2 5 ... 4 0 0]\n",
            "0.41927118644067796\n",
            "Iteration:  60\n",
            "[7 2 3 ... 0 0 0] [7 2 5 ... 4 0 0]\n",
            "0.4599830508474576\n",
            "Iteration:  70\n",
            "[7 2 3 ... 0 0 0] [7 2 5 ... 4 0 0]\n",
            "0.49677966101694915\n",
            "Iteration:  80\n",
            "[7 2 3 ... 4 0 0] [7 2 5 ... 4 0 0]\n",
            "0.5277118644067796\n",
            "Iteration:  90\n",
            "[7 2 5 ... 4 0 0] [7 2 5 ... 4 0 0]\n",
            "0.5552542372881356\n",
            "Iteration:  100\n",
            "[7 2 5 ... 4 0 0] [7 2 5 ... 4 0 0]\n",
            "0.5861186440677966\n",
            "Iteration:  110\n",
            "[7 2 5 ... 4 0 0] [7 2 5 ... 4 0 0]\n",
            "0.6141864406779661\n",
            "Iteration:  120\n",
            "[7 6 5 ... 4 0 0] [7 2 5 ... 4 0 0]\n",
            "0.639\n",
            "Iteration:  130\n",
            "[7 6 5 ... 4 0 0] [7 2 5 ... 4 0 0]\n",
            "0.6593050847457627\n",
            "Iteration:  140\n",
            "[7 6 5 ... 4 0 0] [7 2 5 ... 4 0 0]\n",
            "0.6795084745762712\n",
            "Iteration:  150\n",
            "[7 6 5 ... 4 0 0] [7 2 5 ... 4 0 0]\n",
            "0.6953898305084746\n",
            "Iteration:  160\n",
            "[7 6 5 ... 4 0 0] [7 2 5 ... 4 0 0]\n",
            "0.7094237288135593\n",
            "Iteration:  170\n",
            "[7 6 5 ... 4 0 0] [7 2 5 ... 4 0 0]\n",
            "0.722457627118644\n",
            "Iteration:  180\n",
            "[7 6 5 ... 4 0 0] [7 2 5 ... 4 0 0]\n",
            "0.7343389830508474\n",
            "Iteration:  190\n",
            "[7 6 5 ... 4 0 0] [7 2 5 ... 4 0 0]\n",
            "0.7451525423728813\n",
            "Iteration:  200\n",
            "[7 6 5 ... 4 0 0] [7 2 5 ... 4 0 0]\n",
            "0.7546271186440678\n",
            "Iteration:  210\n",
            "[7 6 5 ... 4 0 0] [7 2 5 ... 4 0 0]\n",
            "0.7629830508474577\n",
            "Iteration:  220\n",
            "[7 6 5 ... 4 0 0] [7 2 5 ... 4 0 0]\n",
            "0.7705254237288136\n",
            "Iteration:  230\n",
            "[7 6 5 ... 4 0 0] [7 2 5 ... 4 0 0]\n",
            "0.7773898305084745\n",
            "Iteration:  240\n",
            "[7 6 5 ... 4 0 0] [7 2 5 ... 4 0 0]\n",
            "0.7834576271186441\n",
            "Iteration:  250\n",
            "[7 6 5 ... 4 0 0] [7 2 5 ... 4 0 0]\n",
            "0.7888474576271186\n",
            "Iteration:  260\n",
            "[7 6 5 ... 4 0 0] [7 2 5 ... 4 0 0]\n",
            "0.7933728813559322\n",
            "Iteration:  270\n",
            "[7 6 5 ... 4 0 0] [7 2 5 ... 4 0 0]\n",
            "0.7979152542372882\n",
            "Iteration:  280\n",
            "[7 6 5 ... 4 0 0] [7 2 5 ... 4 0 0]\n",
            "0.8021694915254237\n",
            "Iteration:  290\n",
            "[7 2 5 ... 4 0 0] [7 2 5 ... 4 0 0]\n",
            "0.8063898305084746\n",
            "Iteration:  300\n",
            "[7 2 5 ... 4 0 0] [7 2 5 ... 4 0 0]\n",
            "0.8100508474576271\n",
            "Iteration:  310\n",
            "[7 2 5 ... 4 0 0] [7 2 5 ... 4 0 0]\n",
            "0.813864406779661\n",
            "Iteration:  320\n",
            "[7 2 5 ... 4 0 0] [7 2 5 ... 4 0 0]\n",
            "0.8171694915254237\n",
            "Iteration:  330\n",
            "[7 2 5 ... 4 0 0] [7 2 5 ... 4 0 0]\n",
            "0.8198305084745763\n",
            "Iteration:  340\n",
            "[7 2 5 ... 4 0 0] [7 2 5 ... 4 0 0]\n",
            "0.8228474576271186\n",
            "Iteration:  350\n",
            "[7 2 5 ... 4 0 0] [7 2 5 ... 4 0 0]\n",
            "0.8258983050847457\n",
            "Iteration:  360\n",
            "[7 2 5 ... 4 0 0] [7 2 5 ... 4 0 0]\n",
            "0.828271186440678\n",
            "Iteration:  370\n",
            "[7 2 5 ... 4 0 0] [7 2 5 ... 4 0 0]\n",
            "0.8306101694915254\n",
            "Iteration:  380\n",
            "[7 2 5 ... 4 0 0] [7 2 5 ... 4 0 0]\n",
            "0.8326610169491525\n",
            "Iteration:  390\n",
            "[7 2 5 ... 4 0 0] [7 2 5 ... 4 0 0]\n",
            "0.8346779661016949\n",
            "Iteration:  400\n",
            "[7 2 5 ... 4 0 0] [7 2 5 ... 4 0 0]\n",
            "0.8366779661016949\n",
            "Iteration:  410\n",
            "[7 2 5 ... 4 0 0] [7 2 5 ... 4 0 0]\n",
            "0.8385423728813559\n",
            "Iteration:  420\n",
            "[7 2 5 ... 4 0 0] [7 2 5 ... 4 0 0]\n",
            "0.840406779661017\n",
            "Iteration:  430\n",
            "[7 2 5 ... 4 0 0] [7 2 5 ... 4 0 0]\n",
            "0.8419491525423729\n",
            "Iteration:  440\n",
            "[7 2 5 ... 4 0 0] [7 2 5 ... 4 0 0]\n",
            "0.8434406779661017\n",
            "Iteration:  450\n",
            "[7 2 5 ... 4 0 0] [7 2 5 ... 4 0 0]\n",
            "0.8450847457627119\n",
            "Iteration:  460\n",
            "[7 2 5 ... 4 0 0] [7 2 5 ... 4 0 0]\n",
            "0.8466610169491525\n",
            "Iteration:  470\n",
            "[7 2 5 ... 4 0 0] [7 2 5 ... 4 0 0]\n",
            "0.8479322033898306\n",
            "Iteration:  480\n",
            "[7 2 5 ... 4 0 0] [7 2 5 ... 4 0 0]\n",
            "0.8492203389830508\n",
            "Iteration:  490\n",
            "[7 2 5 ... 4 0 0] [7 2 5 ... 4 0 0]\n",
            "0.8501864406779661\n"
          ]
        }
      ]
    },
    {
      "cell_type": "markdown",
      "source": [
        "~85% accuracy on training data"
      ],
      "metadata": {
        "id": "nfut7VMwPen_"
      }
    },
    {
      "cell_type": "code",
      "source": [
        "def make_predictions(X, W1, b1, W2, b2):\n",
        "    _, _, _, A2 = forward_prop(W1, b1, W2, b2, X)\n",
        "    predictions = get_predictions(A2)\n",
        "    return predictions\n",
        "\n",
        "def test_prediction(index, W1, b1, W2, b2):\n",
        "    current_image = X_train[:, index, None]\n",
        "    prediction = make_predictions(X_train[:, index, None], W1, b1, W2, b2)\n",
        "    label = Y_train[index]\n",
        "    print(\"Prediction: \", prediction)\n",
        "    print(\"Label: \", label)\n",
        "\n",
        "    current_image = current_image.reshape((28, 28)) * 255\n",
        "    plt.gray()\n",
        "    plt.imshow(current_image, interpolation='nearest')\n",
        "    plt.show()"
      ],
      "metadata": {
        "id": "X3ZSszGlORWJ"
      },
      "execution_count": 29,
      "outputs": []
    },
    {
      "cell_type": "markdown",
      "source": [
        "Examples.\n"
      ],
      "metadata": {
        "id": "bhYQtKaiPq-Z"
      }
    },
    {
      "cell_type": "code",
      "source": [
        "test_prediction(0, W1, b1, W2, b2)\n",
        "test_prediction(1, W1, b1, W2, b2)\n",
        "test_prediction(2, W1, b1, W2, b2)\n",
        "test_prediction(3, W1, b1, W2, b2)"
      ],
      "metadata": {
        "colab": {
          "base_uri": "https://localhost:8080/",
          "height": 1000
        },
        "id": "eQh5DkHoPoYx",
        "outputId": "fbb52122-8681-4740-c324-3ad56af742be"
      },
      "execution_count": 30,
      "outputs": [
        {
          "output_type": "stream",
          "name": "stdout",
          "text": [
            "Prediction:  [7]\n",
            "Label:  7\n"
          ]
        },
        {
          "output_type": "display_data",
          "data": {
            "text/plain": [
              "<Figure size 640x480 with 1 Axes>"
            ],
            "image/png": "[encoded data removed]"
          },
          "metadata": {}
        },
        {
          "output_type": "stream",
          "name": "stdout",
          "text": [
            "Prediction:  [2]\n",
            "Label:  2\n"
          ]
        },
        {
          "output_type": "display_data",
          "data": {
            "text/plain": [
              "<Figure size 640x480 with 1 Axes>"
            ],
            "image/png": "[encoded data removed]"
          },
          "metadata": {}
        },
        {
          "output_type": "stream",
          "name": "stdout",
          "text": [
            "Prediction:  [5]\n",
            "Label:  5\n"
          ]
        },
        {
          "output_type": "display_data",
          "data": {
            "text/plain": [
              "<Figure size 640x480 with 1 Axes>"
            ],
            "image/png": "[encoded data removed]"
          },
          "metadata": {}
        },
        {
          "output_type": "stream",
          "name": "stdout",
          "text": [
            "Prediction:  [4]\n",
            "Label:  4\n"
          ]
        },
        {
          "output_type": "display_data",
          "data": {
            "text/plain": [
              "<Figure size 640x480 with 1 Axes>"
            ],
            "image/png": "[encoded data removed]"
          },
          "metadata": {}
        }
      ]
    },
    {
      "cell_type": "code",
      "source": [
        "dev_predictions = make_predictions(X_dev, W1, b1, W2, b2)\n",
        "get_accuracy(dev_predictions, Y_dev)"
      ],
      "metadata": {
        "colab": {
          "base_uri": "https://localhost:8080/"
        },
        "id": "UBVmZ-DzPu8g",
        "outputId": "e81be172-758f-4a69-ae99-68913c38a9d9"
      },
      "execution_count": 31,
      "outputs": [
        {
          "output_type": "stream",
          "name": "stdout",
          "text": [
            "[7 6 9 2 5 9 1 1 6 1 8 4 8 4 2 3 0 2 1 7 8 5 9 6 8 5 2 0 7 6 7 1 2 7 9 0 4\n",
            " 7 9 4 7 1 9 1 2 7 8 8 6 4 0 8 8 6 9 7 3 6 7 0 0 9 4 3 1 2 1 4 6 2 2 5 5 7\n",
            " 7 8 9 9 3 1 9 1 0 6 0 1 9 1 7 8 0 1 4 5 4 3 9 5 7 6 6 5 5 8 0 7 2 6 4 9 5\n",
            " 4 4 7 7 6 2 5 7 2 4 0 6 4 2 3 7 5 7 9 1 3 7 8 7 3 5 9 7 1 0 0 3 5 1 9 4 4\n",
            " 8 6 8 9 9 1 2 0 6 8 9 4 3 2 1 8 8 2 0 7 9 9 2 4 9 9 1 1 6 4 2 1 9 8 9 4 4\n",
            " 6 2 9 4 1 2 0 0 7 2 9 1 5 2 9 6 0 8 8 5 4 2 9 1 9 3 7 0 7 6 3 8 4 6 0 7 4\n",
            " 9 4 3 3 0 1 3 8 3 2 1 2 2 3 6 2 6 8 3 1 6 2 5 8 6 5 3 6 7 9 3 4 0 9 4 2 9\n",
            " 5 0 3 4 2 6 2 3 0 7 0 2 8 8 6 4 8 0 6 2 4 7 2 9 9 9 1 2 2 0 3 1 9 6 9 6 3\n",
            " 2 2 1 6 0 2 3 9 7 5 6 5 6 9 9 8 1 0 7 5 0 8 6 3 4 3 6 2 5 4 7 3 8 4 6 7 4\n",
            " 3 8 1 0 6 0 5 5 2 3 5 7 4 0 7 6 0 4 7 3 2 5 8 7 0 3 6 0 0 0 4 3 7 7 3 4 6\n",
            " 5 7 0 8 6 8 8 5 9 7 6 5 7 1 5 4 3 5 7 4 8 4 3 8 5 5 5 2 5 0 2 7 5 9 8 4 3\n",
            " 5 0 1 8 1 3 7 3 2 3 1 8 3 1 4 0 4 5 3 1 0 1 8 2 3 1 1 1 9 7 4 1 4 8 9 7 9\n",
            " 8 0 4 8 1 1 3 9 7 5 2 9 1 6 3 0 5 1 7 3 0 9 7 0 6 1 8 0 0 0 9 8 3 4 8 4 0\n",
            " 2 5 4 9 4 5 0 5 5 1 0 6 2 4 9 6 6 9 6 2 8 1 9 2 1 9 7 3 8 7 7 9 0 2 1 3 6\n",
            " 6 4 3 6 6 4 7 6 2 4 5 7 4 8 9 2 2 2 0 4 4 5 3 0 5 8 8 8 5 8 8 2 8 1 9 0 2\n",
            " 7 0 2 4 2 6 4 4 2 9 0 6 8 0 6 8 8 1 3 4 1 4 8 1 9 8 2 7 7 2 3 2 0 6 7 8 0\n",
            " 5 9 9 5 7 9 8 4 7 9 9 7 8 6 5 4 5 2 2 9 1 4 0 3 0 8 1 8 7 0 6 4 6 8 1 2 4\n",
            " 0 2 3 7 7 1 3 9 8 2 3 3 7 5 4 6 8 1 8 3 5 7 1 5 1 6 3 4 3 8 9 2 0 3 5 9 5\n",
            " 4 2 6 8 0 9 5 0 6 5 0 3 8 5 7 4 6 3 0 8 6 3 8 2 2 1 8 3 4 9 5 9 0 5 3 5 9\n",
            " 6 9 7 7 6 5 8 8 5 5 9 8 4 6 8 2 7 3 0 4 0 4 4 4 7 3 7 4 0 3 4 5 3 3 9 2 5\n",
            " 3 9 1 4 8 9 3 2 1 8 0 5 4 8 8 3 2 5 9 8 2 9 1 6 5 7 3 1 2 1 5 5 2 7 7 2 6\n",
            " 6 2 8 2 4 1 3 9 7 1 6 6 9 6 2 7 5 8 2 5 0 1 6 0 3 6 2 4 2 7 8 7 3 8 0 8 3\n",
            " 0 2 0 6 1 2 4 4 7 8 3 5 0 9 4 8 6 9 1 0 8 8 8 9 0 0 0 7 6 7 9 5 0 4 6 2 3\n",
            " 7 9 4 4 1 5 4 1 3 3 7 7 6 3 1 1 7 1 9 0 2 9 7 5 1 0 8 7 8 9 0 7 7 0 4 4 0\n",
            " 0 1 5 9 2 9 7 9 1 9 1 5 7 5 7 4 2 4 3 3 2 6 5 7 7 3 6 0 4 0 0 3 6 2 6 2 0\n",
            " 1 4 4 1 1 9 9 3 2 3 0 8 6 2 1 6 8 5 1 5 3 6 7 9 6 0 2 0 9 4 0 8 1 8 6 6 0\n",
            " 1 1 4 5 9 3 5 6 1 2 2 0 0 2 0 7 9 1 3 1 1 2 8 8 2 5 5 9 6 7 2 5 5 9 7 7 1\n",
            " 4] [7 6 9 2 5 4 1 1 2 1 8 4 8 9 7 3 0 2 1 7 8 5 7 6 0 3 2 0 7 6 7 1 2 7 9 0 4\n",
            " 7 7 7 7 1 7 1 2 7 8 8 6 4 0 8 8 6 4 3 3 4 7 0 0 9 4 3 1 2 1 4 4 7 2 0 5 7\n",
            " 7 9 9 9 2 1 9 1 0 6 0 1 9 1 7 8 0 1 4 5 4 5 9 5 7 6 6 5 5 8 0 7 2 6 4 9 5\n",
            " 4 4 7 2 6 1 5 7 7 4 0 6 4 0 8 7 5 7 9 1 3 7 8 7 3 3 9 7 1 0 0 3 5 1 9 4 4\n",
            " 8 6 8 9 3 1 2 0 6 8 7 4 3 2 2 8 8 2 0 7 4 4 2 4 9 9 1 1 6 4 2 8 9 4 9 9 4\n",
            " 6 2 9 4 1 2 8 0 7 2 9 1 5 3 4 6 8 8 1 0 4 2 9 1 9 3 7 0 7 6 3 8 4 6 0 7 4\n",
            " 9 4 9 8 8 2 3 8 5 4 1 2 2 3 6 2 6 8 3 1 6 2 8 8 6 5 3 6 7 9 3 4 0 9 4 2 4\n",
            " 5 0 3 4 2 6 2 3 5 7 0 2 8 8 5 4 8 0 6 2 4 7 2 4 9 4 1 2 2 0 3 1 5 6 9 4 3\n",
            " 2 1 1 2 0 6 2 4 7 5 6 5 6 9 9 8 1 0 3 8 0 9 6 3 4 3 6 2 7 9 7 3 8 4 6 7 4\n",
            " 3 9 1 0 6 0 0 5 2 5 5 7 4 0 7 6 0 4 9 3 7 5 8 7 2 3 6 0 0 0 4 3 7 9 2 4 6\n",
            " 5 7 3 9 6 8 8 5 9 7 6 3 7 1 8 4 3 5 7 4 8 4 5 8 6 5 5 2 5 0 2 7 5 9 6 4 8\n",
            " 5 0 1 8 1 3 7 3 2 3 1 8 3 1 4 0 4 5 8 1 5 1 8 2 3 2 1 1 3 7 4 1 4 8 9 7 9\n",
            " 8 6 4 8 1 1 3 9 7 5 2 9 1 6 3 0 5 1 7 3 0 9 7 0 6 1 8 0 0 0 9 8 2 4 8 9 0\n",
            " 2 5 4 9 4 5 0 0 8 1 0 6 2 4 9 6 6 7 5 2 8 1 9 2 1 7 7 3 8 7 7 9 3 2 1 3 6\n",
            " 6 4 3 6 6 9 3 6 3 4 3 9 4 8 9 3 2 2 0 4 4 9 3 0 5 3 8 8 8 8 8 2 8 1 9 0 2\n",
            " 7 0 2 4 2 6 5 4 2 9 0 6 8 0 6 8 8 1 0 9 1 4 8 1 8 8 2 7 7 2 3 2 0 6 7 8 0\n",
            " 5 4 9 5 7 9 8 4 7 9 9 7 1 6 5 4 5 2 2 7 5 4 0 3 0 4 1 8 7 0 6 9 6 5 8 7 4\n",
            " 0 2 3 7 7 1 3 9 8 2 3 3 7 5 4 6 8 1 8 3 5 7 1 3 1 6 3 6 3 8 9 2 0 3 5 9 0\n",
            " 4 2 3 8 0 8 5 0 2 5 0 3 8 5 7 4 6 3 0 8 6 3 8 2 2 1 3 3 4 9 5 9 0 5 3 5 9\n",
            " 6 9 7 7 6 5 8 8 5 5 9 8 4 6 5 2 7 3 6 4 0 9 4 4 9 5 7 4 0 3 4 5 5 3 9 2 5\n",
            " 3 9 1 4 8 2 3 2 1 8 0 5 4 8 4 3 2 5 9 8 2 9 1 6 5 7 3 1 2 1 3 5 2 7 7 2 6\n",
            " 6 2 8 2 4 1 3 5 7 1 6 6 9 6 2 7 5 8 6 5 0 1 8 0 3 6 2 4 2 7 8 7 3 8 0 8 3\n",
            " 0 2 0 6 1 2 5 9 7 8 3 9 0 4 4 8 6 7 1 0 8 8 8 9 7 0 0 5 6 7 9 5 0 4 6 2 3\n",
            " 7 9 4 4 1 5 4 1 3 3 7 7 6 3 1 1 7 1 9 0 2 9 7 0 1 0 8 7 8 9 0 7 7 0 4 4 0\n",
            " 0 2 3 9 2 9 7 4 2 9 1 5 7 5 7 4 2 4 2 3 2 6 1 7 7 3 4 0 4 0 0 3 6 1 6 2 0\n",
            " 1 8 4 1 1 9 4 3 2 3 0 8 6 2 4 6 8 9 1 5 3 6 7 9 6 0 2 0 9 9 0 8 1 8 6 6 0\n",
            " 8 1 4 5 9 5 8 6 1 2 2 0 0 2 0 7 9 1 3 1 1 2 8 8 2 0 5 9 6 7 1 5 5 9 7 7 1\n",
            " 9]\n"
          ]
        },
        {
          "output_type": "execute_result",
          "data": {
            "text/plain": [
              "0.84"
            ]
          },
          "metadata": {},
          "execution_count": 31
        }
      ]
    },
    {
      "cell_type": "code",
      "source": [],
      "metadata": {
        "id": "XDBikQj9P6iA"
      },
      "execution_count": 31,
      "outputs": []
    }
  ],
  "metadata": {
    "colab": {
      "provenance": [],
      "mount_file_id": "1DaqTipLpAQcaYml1wJw2VzHYt227N2zw",
      "authorship_tag": "ABX9TyPV+7l4ObndpzcPjOWnGlsG",
      "include_colab_link": true
    },
    "kernelspec": {
      "display_name": "Python 3",
      "name": "python3"
    },
    "language_info": {
      "name": "python"
    }
  },
  "nbformat": 4,
  "nbformat_minor": 0
}