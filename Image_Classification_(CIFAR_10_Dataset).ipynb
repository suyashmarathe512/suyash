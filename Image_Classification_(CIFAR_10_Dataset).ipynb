{
  "nbformat": 4,
  "nbformat_minor": 0,
  "metadata": {
    "colab": {
      "provenance": [],
      "authorship_tag": "ABX9TyNEVRZauQn4jggdvu8ItOlr",
      "include_colab_link": true
    },
    "kernelspec": {
      "name": "python3",
      "display_name": "Python 3"
    },
    "language_info": {
      "name": "python"
    }
  },
  "cells": [
    {
      "cell_type": "markdown",
      "metadata": {
        "id": "view-in-github",
        "colab_type": "text"
      },
      "source": [
        "<a href=\"https://colab.research.google.com/github/suyashmarathe512/suyash/blob/main/Image_Classification_(CIFAR_10_Dataset).ipynb\" target=\"_parent\"><img src=\"https://colab.research.google.com/assets/colab-badge.svg\" alt=\"Open In Colab\"/></a>"
      ]
    },
    {
      "cell_type": "code",
      "execution_count": null,
      "metadata": {
        "id": "9OET5w3LUspL"
      },
      "outputs": [],
      "source": [
        "import tensorflow as tf\n",
        "from tensorflow.keras import datasets, layers, models\n",
        "import matplotlib.pyplot as plt\n",
        "import numpy as np"
      ]
    },
    {
      "cell_type": "markdown",
      "source": [
        "Load the dataset"
      ],
      "metadata": {
        "id": "BfuWZNdDK5rJ"
      }
    },
    {
      "cell_type": "code",
      "source": [
        "(X_train, y_train), (X_test,y_test) = datasets.cifar10.load_data()\n",
        "X_train.shape"
      ],
      "metadata": {
        "colab": {
          "base_uri": "https://localhost:8080/"
        },
        "id": "b0eq4lsDK3HJ",
        "outputId": "d0449bf0-6444-4037-da85-a9444959cf0d"
      },
      "execution_count": null,
      "outputs": [
        {
          "output_type": "stream",
          "name": "stdout",
          "text": [
            "Downloading data from https://www.cs.toronto.edu/~kriz/cifar-10-python.tar.gz\n",
            "170498071/170498071 [==============================] - 3s 0us/step\n"
          ]
        },
        {
          "output_type": "execute_result",
          "data": {
            "text/plain": [
              "(50000, 32, 32, 3)"
            ]
          },
          "metadata": {},
          "execution_count": 2
        }
      ]
    },
    {
      "cell_type": "code",
      "source": [
        "X_test.shape"
      ],
      "metadata": {
        "colab": {
          "base_uri": "https://localhost:8080/"
        },
        "id": "FmImzZlWK8vX",
        "outputId": "557da33e-d2d9-4f9a-d535-7655560953d6"
      },
      "execution_count": null,
      "outputs": [
        {
          "output_type": "execute_result",
          "data": {
            "text/plain": [
              "(10000, 32, 32, 3)"
            ]
          },
          "metadata": {},
          "execution_count": 3
        }
      ]
    },
    {
      "cell_type": "markdown",
      "source": [
        "Here we see there are 50000 training images and 1000 test images"
      ],
      "metadata": {
        "id": "ZZpn1LVbLDi5"
      }
    },
    {
      "cell_type": "code",
      "source": [
        "\n",
        "y_train.shape"
      ],
      "metadata": {
        "colab": {
          "base_uri": "https://localhost:8080/"
        },
        "id": "LSyiRuDPK_Wv",
        "outputId": "dcddf608-8bdb-41f9-f0e4-eb2b1a14428f"
      },
      "execution_count": null,
      "outputs": [
        {
          "output_type": "execute_result",
          "data": {
            "text/plain": [
              "(50000, 1)"
            ]
          },
          "metadata": {},
          "execution_count": 4
        }
      ]
    },
    {
      "cell_type": "code",
      "source": [
        "y_train[:5]"
      ],
      "metadata": {
        "colab": {
          "base_uri": "https://localhost:8080/"
        },
        "id": "s7JBuNf-LFkI",
        "outputId": "d5b87b41-dbe2-4e45-f4c2-e283a481dda3"
      },
      "execution_count": null,
      "outputs": [
        {
          "output_type": "execute_result",
          "data": {
            "text/plain": [
              "array([[6],\n",
              "       [9],\n",
              "       [9],\n",
              "       [4],\n",
              "       [1]], dtype=uint8)"
            ]
          },
          "metadata": {},
          "execution_count": 5
        }
      ]
    },
    {
      "cell_type": "markdown",
      "source": [
        "y_train is a 2D array, for our classification having 1D array is good enough. so we will convert this to now 1D array"
      ],
      "metadata": {
        "id": "zJK0CYTTLLBJ"
      }
    },
    {
      "cell_type": "code",
      "source": [
        "y_train = y_train.reshape(-1,)\n",
        "y_train[:5]"
      ],
      "metadata": {
        "colab": {
          "base_uri": "https://localhost:8080/"
        },
        "id": "lI6q4eJ6LIK4",
        "outputId": "f36d94ae-3d44-4829-8cb6-995e25cbc127"
      },
      "execution_count": null,
      "outputs": [
        {
          "output_type": "execute_result",
          "data": {
            "text/plain": [
              "array([6, 9, 9, 4, 1], dtype=uint8)"
            ]
          },
          "metadata": {},
          "execution_count": 6
        }
      ]
    },
    {
      "cell_type": "code",
      "source": [
        "y_test = y_test.reshape(-1,)"
      ],
      "metadata": {
        "id": "fTolv6xMLNLg"
      },
      "execution_count": null,
      "outputs": []
    },
    {
      "cell_type": "code",
      "source": [
        "classes = [\"airplane\",\"automobile\",\"bird\",\"cat\",\"deer\",\"dog\",\"frog\",\"horse\",\"ship\",\"truck\"]"
      ],
      "metadata": {
        "id": "Nn3ASmsuLO_4"
      },
      "execution_count": null,
      "outputs": []
    },
    {
      "cell_type": "markdown",
      "source": [
        "Let's plot some images to see what they are"
      ],
      "metadata": {
        "id": "UMUi4UEqLSVB"
      }
    },
    {
      "cell_type": "code",
      "source": [
        "def plot_sample(X, y, index):\n",
        "    plt.figure(figsize = (15,2))\n",
        "    plt.imshow(X[index])\n",
        "    plt.xlabel(classes[y[index]])"
      ],
      "metadata": {
        "id": "byYftpnqLQ1Y"
      },
      "execution_count": null,
      "outputs": []
    },
    {
      "cell_type": "code",
      "source": [
        "plot_sample(X_train, y_train, 5)"
      ],
      "metadata": {
        "colab": {
          "base_uri": "https://localhost:8080/",
          "height": 237
        },
        "id": "xMxX3EypLUNg",
        "outputId": "8425358c-bd7d-49a3-deff-6c81e11c39c8"
      },
      "execution_count": null,
      "outputs": [
        {
          "output_type": "display_data",
          "data": {
            "text/plain": [
              "<Figure size 1500x200 with 1 Axes>"
            ],
            "image/png": "[encoded data removed]"
          },
          "metadata": {}
        }
      ]
    },
    {
      "cell_type": "code",
      "source": [
        "plot_sample(X_train, y_train, 4)"
      ],
      "metadata": {
        "colab": {
          "base_uri": "https://localhost:8080/",
          "height": 237
        },
        "id": "2OekOzt1LWPg",
        "outputId": "58728476-75f2-4240-a023-4e18cb45247f"
      },
      "execution_count": null,
      "outputs": [
        {
          "output_type": "display_data",
          "data": {
            "text/plain": [
              "<Figure size 1500x200 with 1 Axes>"
            ],
            "image/png": "[encoded data removed]"
          },
          "metadata": {}
        }
      ]
    },
    {
      "cell_type": "markdown",
      "source": [
        "Normalize the images to a number from 0 to 1. Image has 3 channels (R,G,B) and each value in the channel can range from 0 to 255. Hence to normalize in 0-->1 range, we need to divide it by 255"
      ],
      "metadata": {
        "id": "vHGsdw0bLg9o"
      }
    },
    {
      "cell_type": "code",
      "source": [
        "\n",
        "X_train = X_train / 255.0\n",
        "X_test = X_test / 255.0"
      ],
      "metadata": {
        "id": "UKC04nBpLZa4"
      },
      "execution_count": null,
      "outputs": []
    },
    {
      "cell_type": "markdown",
      "source": [
        "Build simple artificial neural network for image classification"
      ],
      "metadata": {
        "id": "wXxWSrIMLnhX"
      }
    },
    {
      "cell_type": "code",
      "source": [
        "import torch\n",
        "import torch.nn as nn\n",
        "\n",
        "class MyCNN(nn.Module):\n",
        "    def __init__(self):\n",
        "        super(MyCNN, self).__init__()\n",
        "        self.conv1 = nn.Conv2d(3, 32, kernel_size=3, padding=1)\n",
        "        self.conv2 = nn.Conv2d(32, 64, kernel_size=3, padding=1)\n",
        "        self.maxpool = nn.MaxPool2d(2)\n",
        "        self.relu = nn.ReLU()\n",
        "        self.fc1 = nn.Linear(64 * 8 * 8, 128)\n",
        "        self.fc2 = nn.Linear(128, 10)\n",
        "\n",
        "    def forward(self, x):\n",
        "        x = self.relu(self.conv1(x))\n",
        "        x = self.maxpool(x)\n",
        "        x = self.relu(self.conv2(x))\n",
        "        x = self.maxpool(x)\n",
        "        x = x.view(-1, 64 * 8 * 8)\n",
        "        x = self.relu(self.fc1(x))\n",
        "        x = self.fc2(x)\n",
        "        return x"
      ],
      "metadata": {
        "id": "mrFpea4LLtqQ"
      },
      "execution_count": null,
      "outputs": []
    },
    {
      "cell_type": "code",
      "source": [
        "from torchvision import datasets, transforms\n",
        "\n",
        "transform = transforms.Compose([\n",
        "    transforms.ToTensor(),\n",
        "    transforms.Normalize((0.5, 0.5, 0.5), (0.5, 0.5, 0.5))\n",
        "])\n",
        "\n",
        "train_dataset = datasets.CIFAR10(root='./data', train=True, download=True, transform=transform)\n",
        "test_dataset = datasets.CIFAR10(root='./data', train=False, transform=transform)\n",
        "\n",
        "train_loader = torch.utils.data.DataLoader(train_dataset, batch_size=64, shuffle=True)\n",
        "test_loader = torch.utils.data.DataLoader(test_dataset, batch_size=64, shuffle=False)"
      ],
      "metadata": {
        "colab": {
          "base_uri": "https://localhost:8080/"
        },
        "id": "rifw7yxdQXks",
        "outputId": "9d40a6ce-01c1-4932-a2a8-c9ad02a4357a"
      },
      "execution_count": null,
      "outputs": [
        {
          "output_type": "stream",
          "name": "stdout",
          "text": [
            "Downloading https://www.cs.toronto.edu/~kriz/cifar-10-python.tar.gz to ./data/cifar-10-python.tar.gz\n"
          ]
        },
        {
          "output_type": "stream",
          "name": "stderr",
          "text": [
            "100%|██████████| 170498071/170498071 [00:03<00:00, 48156107.00it/s]\n"
          ]
        },
        {
          "output_type": "stream",
          "name": "stdout",
          "text": [
            "Extracting ./data/cifar-10-python.tar.gz to ./data\n"
          ]
        }
      ]
    },
    {
      "cell_type": "code",
      "source": [
        "device = torch.device(\"cuda:0\" if torch.cuda.is_available() else \"cpu\")\n",
        "\n",
        "model = MyCNN().to(device)\n",
        "criterion = nn.CrossEntropyLoss()\n",
        "optimizer = torch.optim.Adam(model.parameters(), lr=0.001)\n",
        "\n",
        "for epoch in range(10):\n",
        "    for i, (images, labels) in enumerate(train_loader):\n",
        "        images = images.to(device)\n",
        "        labels = labels.to(device)\n",
        "\n",
        "        # Forward pass\n",
        "        outputs = model(images)\n",
        "        loss = criterion(outputs, labels)\n",
        "\n",
        "        # Backward pass and optimize\n",
        "        optimizer.zero_grad()\n",
        "        loss.backward()\n",
        "        optimizer.step()\n",
        "\n",
        "        # Print statistics\n",
        "        if (i + 1) % 100 == 0:\n",
        "            print('Epoch [{}/{}], Step [{}/{}], Loss: {:.4f}'.format(\n",
        "                epoch + 1, 10, i + 1, len(train_loader), loss.item()))\n",
        "\n",
        "# Evaluate the model on the test data\n",
        "model.eval()\n",
        "correct = 0\n",
        "total = 0\n",
        "with torch.no_grad():\n",
        "    for images, labels in test_loader:\n",
        "        images = images.to(device)\n",
        "        labels = labels.to(device)\n",
        "        outputs = model(images)\n",
        "        _, predicted = torch.max(outputs.data, 1)\n",
        "        total += labels.size(0)\n",
        "        correct += (predicted == labels).sum().item()\n",
        "\n",
        "print('Test Accuracy: {}%'.format((correct / total) * 100))"
      ],
      "metadata": {
        "colab": {
          "base_uri": "https://localhost:8080/"
        },
        "id": "c_DkOrADQpWR",
        "outputId": "4183cbb3-e921-4b40-a710-386a10fded6d"
      },
      "execution_count": null,
      "outputs": [
        {
          "output_type": "stream",
          "name": "stdout",
          "text": [
            "Epoch [1/10], Step [100/782], Loss: 1.5456\n",
            "Epoch [1/10], Step [200/782], Loss: 1.4163\n",
            "Epoch [1/10], Step [300/782], Loss: 1.3426\n",
            "Epoch [1/10], Step [400/782], Loss: 1.2950\n",
            "Epoch [1/10], Step [500/782], Loss: 1.2632\n",
            "Epoch [1/10], Step [600/782], Loss: 1.2574\n",
            "Epoch [1/10], Step [700/782], Loss: 1.2600\n",
            "Epoch [2/10], Step [100/782], Loss: 1.1914\n",
            "Epoch [2/10], Step [200/782], Loss: 1.0678\n",
            "Epoch [2/10], Step [300/782], Loss: 0.9215\n",
            "Epoch [2/10], Step [400/782], Loss: 0.9573\n",
            "Epoch [2/10], Step [500/782], Loss: 0.8523\n",
            "Epoch [2/10], Step [600/782], Loss: 0.9244\n",
            "Epoch [2/10], Step [700/782], Loss: 1.1253\n",
            "Epoch [3/10], Step [100/782], Loss: 1.1028\n",
            "Epoch [3/10], Step [200/782], Loss: 0.8977\n",
            "Epoch [3/10], Step [300/782], Loss: 0.8097\n",
            "Epoch [3/10], Step [400/782], Loss: 0.7482\n",
            "Epoch [3/10], Step [500/782], Loss: 0.5685\n",
            "Epoch [3/10], Step [600/782], Loss: 0.8851\n",
            "Epoch [3/10], Step [700/782], Loss: 0.7220\n",
            "Epoch [4/10], Step [100/782], Loss: 0.6686\n",
            "Epoch [4/10], Step [200/782], Loss: 0.7147\n",
            "Epoch [4/10], Step [300/782], Loss: 0.7185\n",
            "Epoch [4/10], Step [400/782], Loss: 0.7556\n",
            "Epoch [4/10], Step [500/782], Loss: 0.7068\n",
            "Epoch [4/10], Step [600/782], Loss: 0.6761\n",
            "Epoch [4/10], Step [700/782], Loss: 0.7645\n",
            "Epoch [5/10], Step [100/782], Loss: 0.5027\n",
            "Epoch [5/10], Step [200/782], Loss: 0.5466\n",
            "Epoch [5/10], Step [300/782], Loss: 0.4611\n",
            "Epoch [5/10], Step [400/782], Loss: 0.7137\n",
            "Epoch [5/10], Step [500/782], Loss: 0.4493\n",
            "Epoch [5/10], Step [600/782], Loss: 0.7803\n",
            "Epoch [5/10], Step [700/782], Loss: 0.6875\n",
            "Epoch [6/10], Step [100/782], Loss: 0.5620\n",
            "Epoch [6/10], Step [200/782], Loss: 0.3683\n",
            "Epoch [6/10], Step [300/782], Loss: 0.4298\n",
            "Epoch [6/10], Step [400/782], Loss: 0.4981\n",
            "Epoch [6/10], Step [500/782], Loss: 0.5659\n",
            "Epoch [6/10], Step [600/782], Loss: 0.1971\n",
            "Epoch [6/10], Step [700/782], Loss: 0.3607\n",
            "Epoch [7/10], Step [100/782], Loss: 0.5152\n",
            "Epoch [7/10], Step [200/782], Loss: 0.4152\n",
            "Epoch [7/10], Step [300/782], Loss: 0.2879\n",
            "Epoch [7/10], Step [400/782], Loss: 0.2244\n",
            "Epoch [7/10], Step [500/782], Loss: 0.5734\n",
            "Epoch [7/10], Step [600/782], Loss: 0.4818\n",
            "Epoch [7/10], Step [700/782], Loss: 0.3563\n",
            "Epoch [8/10], Step [100/782], Loss: 0.2862\n",
            "Epoch [8/10], Step [200/782], Loss: 0.3828\n",
            "Epoch [8/10], Step [300/782], Loss: 0.4266\n",
            "Epoch [8/10], Step [400/782], Loss: 0.2656\n",
            "Epoch [8/10], Step [500/782], Loss: 0.3327\n",
            "Epoch [8/10], Step [600/782], Loss: 0.2540\n",
            "Epoch [8/10], Step [700/782], Loss: 0.2674\n",
            "Epoch [9/10], Step [100/782], Loss: 0.1096\n",
            "Epoch [9/10], Step [200/782], Loss: 0.1655\n",
            "Epoch [9/10], Step [300/782], Loss: 0.3504\n",
            "Epoch [9/10], Step [400/782], Loss: 0.1759\n",
            "Epoch [9/10], Step [500/782], Loss: 0.4487\n",
            "Epoch [9/10], Step [600/782], Loss: 0.1512\n",
            "Epoch [9/10], Step [700/782], Loss: 0.3774\n",
            "Epoch [10/10], Step [100/782], Loss: 0.1945\n",
            "Epoch [10/10], Step [200/782], Loss: 0.1981\n",
            "Epoch [10/10], Step [300/782], Loss: 0.2439\n",
            "Epoch [10/10], Step [400/782], Loss: 0.1141\n",
            "Epoch [10/10], Step [500/782], Loss: 0.2546\n",
            "Epoch [10/10], Step [600/782], Loss: 0.3201\n",
            "Epoch [10/10], Step [700/782], Loss: 0.2028\n",
            "Test Accuracy: 72.57000000000001%\n"
          ]
        }
      ]
    },
    {
      "cell_type": "code",
      "source": [],
      "metadata": {
        "id": "gCcq0PK-RA1O"
      },
      "execution_count": null,
      "outputs": []
    }
  ]
}