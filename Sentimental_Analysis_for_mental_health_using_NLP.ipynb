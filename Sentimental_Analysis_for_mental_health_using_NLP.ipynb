{
  "nbformat": 4,
  "nbformat_minor": 0,
  "metadata": {
    "colab": {
      "provenance": [],
      "mount_file_id": "1q5-mbgDBNejl_3SxNyHQTeks1HRYJA3q",
      "authorship_tag": "ABX9TyMrBl6OclfKkgQpk8Itvf16",
      "include_colab_link": true
    },
    "kernelspec": {
      "name": "python3",
      "display_name": "Python 3"
    },
    "language_info": {
      "name": "python"
    }
  },
  "cells": [
    {
      "cell_type": "markdown",
      "metadata": {
        "id": "view-in-github",
        "colab_type": "text"
      },
      "source": [
        "<a href=\"https://colab.research.google.com/github/suyashmarathe512/suyash/blob/main/Sentimental_Analysis_for_mental_health_using_NLP.ipynb\" target=\"_parent\"><img src=\"https://colab.research.google.com/assets/colab-badge.svg\" alt=\"Open In Colab\"/></a>"
      ]
    },
    {
      "cell_type": "code",
      "execution_count": 1,
      "metadata": {
        "id": "oN0K5Br-E2a9"
      },
      "outputs": [],
      "source": [
        "import numpy as np\n",
        "import pandas as pd\n",
        "import matplotlib.pyplot as plt\n",
        "import seaborn as sns\n",
        "import warnings\n",
        "import csv\n",
        "warnings.filterwarnings('ignore')"
      ]
    },
    {
      "cell_type": "code",
      "source": [
        "df = pd.read_csv('/content/drive/MyDrive/Combined Data.csv', on_bad_lines='skip')\n",
        "df= df.sample(n=8627, random_state=42)\n",
        "\n",
        "df= df.drop(columns=['Unnamed: 0'])\n",
        "df.reset_index(drop=True, inplace=True)\n",
        "\n",
        "df.head()"
      ],
      "metadata": {
        "colab": {
          "base_uri": "https://localhost:8080/",
          "height": 206
        },
        "id": "7aupeVxMFy1b",
        "outputId": "7a2c5c38-ca72-4a6f-f7b4-2900d23ea469"
      },
      "execution_count": 61,
      "outputs": [
        {
          "output_type": "execute_result",
          "data": {
            "text/plain": [
              "                                           statement      status\n",
              "0  Just as the the title says. I feel like one is...  Depression\n",
              "1  a blackened sky encroached tugging behind it m...  Depression\n",
              "2  It gives you insomnia, which in turn makes you...  Depression\n",
              "3  Hello all, I'm a new submitter to this channel...      Normal\n",
              "4                   Thank God the CB is over for Eid      Normal"
            ],
            "text/html": [
              "\n",
              "  <div id=\"df-10d4b9af-bd75-4e59-9352-72b80d3128a4\" class=\"colab-df-container\">\n",
              "    <div>\n",
              "<style scoped>\n",
              "    .dataframe tbody tr th:only-of-type {\n",
              "        vertical-align: middle;\n",
              "    }\n",
              "\n",
              "    .dataframe tbody tr th {\n",
              "        vertical-align: top;\n",
              "    }\n",
              "\n",
              "    .dataframe thead th {\n",
              "        text-align: right;\n",
              "    }\n",
              "</style>\n",
              "<table border=\"1\" class=\"dataframe\">\n",
              "  <thead>\n",
              "    <tr style=\"text-align: right;\">\n",
              "      <th></th>\n",
              "      <th>statement</th>\n",
              "      <th>status</th>\n",
              "    </tr>\n",
              "  </thead>\n",
              "  <tbody>\n",
              "    <tr>\n",
              "      <th>0</th>\n",
              "      <td>Just as the the title says. I feel like one is...</td>\n",
              "      <td>Depression</td>\n",
              "    </tr>\n",
              "    <tr>\n",
              "      <th>1</th>\n",
              "      <td>a blackened sky encroached tugging behind it m...</td>\n",
              "      <td>Depression</td>\n",
              "    </tr>\n",
              "    <tr>\n",
              "      <th>2</th>\n",
              "      <td>It gives you insomnia, which in turn makes you...</td>\n",
              "      <td>Depression</td>\n",
              "    </tr>\n",
              "    <tr>\n",
              "      <th>3</th>\n",
              "      <td>Hello all, I'm a new submitter to this channel...</td>\n",
              "      <td>Normal</td>\n",
              "    </tr>\n",
              "    <tr>\n",
              "      <th>4</th>\n",
              "      <td>Thank God the CB is over for Eid</td>\n",
              "      <td>Normal</td>\n",
              "    </tr>\n",
              "  </tbody>\n",
              "</table>\n",
              "</div>\n",
              "    <div class=\"colab-df-buttons\">\n",
              "\n",
              "  <div class=\"colab-df-container\">\n",
              "    <button class=\"colab-df-convert\" onclick=\"convertToInteractive('df-10d4b9af-bd75-4e59-9352-72b80d3128a4')\"\n",
              "            title=\"Convert this dataframe to an interactive table.\"\n",
              "            style=\"display:none;\">\n",
              "\n",
              "  <svg xmlns=\"http://www.w3.org/2000/svg\" height=\"24px\" viewBox=\"0 -960 960 960\">\n",
              "    <path d=\"M120-120v-720h720v720H120Zm60-500h600v-160H180v160Zm220 220h160v-160H400v160Zm0 220h160v-160H400v160ZM180-400h160v-160H180v160Zm440 0h160v-160H620v160ZM180-180h160v-160H180v160Zm440 0h160v-160H620v160Z\"/>\n",
              "  </svg>\n",
              "    </button>\n",
              "\n",
              "  <style>\n",
              "    .colab-df-container {\n",
              "      display:flex;\n",
              "      gap: 12px;\n",
              "    }\n",
              "\n",
              "    .colab-df-convert {\n",
              "      background-color: #E8F0FE;\n",
              "      border: none;\n",
              "      border-radius: 50%;\n",
              "      cursor: pointer;\n",
              "      display: none;\n",
              "      fill: #1967D2;\n",
              "      height: 32px;\n",
              "      padding: 0 0 0 0;\n",
              "      width: 32px;\n",
              "    }\n",
              "\n",
              "    .colab-df-convert:hover {\n",
              "      background-color: #E2EBFA;\n",
              "      box-shadow: 0px 1px 2px rgba(60, 64, 67, 0.3), 0px 1px 3px 1px rgba(60, 64, 67, 0.15);\n",
              "      fill: #174EA6;\n",
              "    }\n",
              "\n",
              "    .colab-df-buttons div {\n",
              "      margin-bottom: 4px;\n",
              "    }\n",
              "\n",
              "    [theme=dark] .colab-df-convert {\n",
              "      background-color: #3B4455;\n",
              "      fill: #D2E3FC;\n",
              "    }\n",
              "\n",
              "    [theme=dark] .colab-df-convert:hover {\n",
              "      background-color: #434B5C;\n",
              "      box-shadow: 0px 1px 3px 1px rgba(0, 0, 0, 0.15);\n",
              "      filter: drop-shadow(0px 1px 2px rgba(0, 0, 0, 0.3));\n",
              "      fill: #FFFFFF;\n",
              "    }\n",
              "  </style>\n",
              "\n",
              "    <script>\n",
              "      const buttonEl =\n",
              "        document.querySelector('#df-10d4b9af-bd75-4e59-9352-72b80d3128a4 button.colab-df-convert');\n",
              "      buttonEl.style.display =\n",
              "        google.colab.kernel.accessAllowed ? 'block' : 'none';\n",
              "\n",
              "      async function convertToInteractive(key) {\n",
              "        const element = document.querySelector('#df-10d4b9af-bd75-4e59-9352-72b80d3128a4');\n",
              "        const dataTable =\n",
              "          await google.colab.kernel.invokeFunction('convertToInteractive',\n",
              "                                                    [key], {});\n",
              "        if (!dataTable) return;\n",
              "\n",
              "        const docLinkHtml = 'Like what you see? Visit the ' +\n",
              "          '<a target=\"_blank\" href=https://colab.research.google.com/notebooks/data_table.ipynb>data table notebook</a>'\n",
              "          + ' to learn more about interactive tables.';\n",
              "        element.innerHTML = '';\n",
              "        dataTable['output_type'] = 'display_data';\n",
              "        await google.colab.output.renderOutput(dataTable, element);\n",
              "        const docLink = document.createElement('div');\n",
              "        docLink.innerHTML = docLinkHtml;\n",
              "        element.appendChild(docLink);\n",
              "      }\n",
              "    </script>\n",
              "  </div>\n",
              "\n",
              "\n",
              "<div id=\"df-87f75b26-a99a-43cc-91ee-2a432ae8f66a\">\n",
              "  <button class=\"colab-df-quickchart\" onclick=\"quickchart('df-87f75b26-a99a-43cc-91ee-2a432ae8f66a')\"\n",
              "            title=\"Suggest charts\"\n",
              "            style=\"display:none;\">\n",
              "\n",
              "<svg xmlns=\"http://www.w3.org/2000/svg\" height=\"24px\"viewBox=\"0 0 24 24\"\n",
              "     width=\"24px\">\n",
              "    <g>\n",
              "        <path d=\"M19 3H5c-1.1 0-2 .9-2 2v14c0 1.1.9 2 2 2h14c1.1 0 2-.9 2-2V5c0-1.1-.9-2-2-2zM9 17H7v-7h2v7zm4 0h-2V7h2v10zm4 0h-2v-4h2v4z\"/>\n",
              "    </g>\n",
              "</svg>\n",
              "  </button>\n",
              "\n",
              "<style>\n",
              "  .colab-df-quickchart {\n",
              "      --bg-color: #E8F0FE;\n",
              "      --fill-color: #1967D2;\n",
              "      --hover-bg-color: #E2EBFA;\n",
              "      --hover-fill-color: #174EA6;\n",
              "      --disabled-fill-color: #AAA;\n",
              "      --disabled-bg-color: #DDD;\n",
              "  }\n",
              "\n",
              "  [theme=dark] .colab-df-quickchart {\n",
              "      --bg-color: #3B4455;\n",
              "      --fill-color: #D2E3FC;\n",
              "      --hover-bg-color: #434B5C;\n",
              "      --hover-fill-color: #FFFFFF;\n",
              "      --disabled-bg-color: #3B4455;\n",
              "      --disabled-fill-color: #666;\n",
              "  }\n",
              "\n",
              "  .colab-df-quickchart {\n",
              "    background-color: var(--bg-color);\n",
              "    border: none;\n",
              "    border-radius: 50%;\n",
              "    cursor: pointer;\n",
              "    display: none;\n",
              "    fill: var(--fill-color);\n",
              "    height: 32px;\n",
              "    padding: 0;\n",
              "    width: 32px;\n",
              "  }\n",
              "\n",
              "  .colab-df-quickchart:hover {\n",
              "    background-color: var(--hover-bg-color);\n",
              "    box-shadow: 0 1px 2px rgba(60, 64, 67, 0.3), 0 1px 3px 1px rgba(60, 64, 67, 0.15);\n",
              "    fill: var(--button-hover-fill-color);\n",
              "  }\n",
              "\n",
              "  .colab-df-quickchart-complete:disabled,\n",
              "  .colab-df-quickchart-complete:disabled:hover {\n",
              "    background-color: var(--disabled-bg-color);\n",
              "    fill: var(--disabled-fill-color);\n",
              "    box-shadow: none;\n",
              "  }\n",
              "\n",
              "  .colab-df-spinner {\n",
              "    border: 2px solid var(--fill-color);\n",
              "    border-color: transparent;\n",
              "    border-bottom-color: var(--fill-color);\n",
              "    animation:\n",
              "      spin 1s steps(1) infinite;\n",
              "  }\n",
              "\n",
              "  @keyframes spin {\n",
              "    0% {\n",
              "      border-color: transparent;\n",
              "      border-bottom-color: var(--fill-color);\n",
              "      border-left-color: var(--fill-color);\n",
              "    }\n",
              "    20% {\n",
              "      border-color: transparent;\n",
              "      border-left-color: var(--fill-color);\n",
              "      border-top-color: var(--fill-color);\n",
              "    }\n",
              "    30% {\n",
              "      border-color: transparent;\n",
              "      border-left-color: var(--fill-color);\n",
              "      border-top-color: var(--fill-color);\n",
              "      border-right-color: var(--fill-color);\n",
              "    }\n",
              "    40% {\n",
              "      border-color: transparent;\n",
              "      border-right-color: var(--fill-color);\n",
              "      border-top-color: var(--fill-color);\n",
              "    }\n",
              "    60% {\n",
              "      border-color: transparent;\n",
              "      border-right-color: var(--fill-color);\n",
              "    }\n",
              "    80% {\n",
              "      border-color: transparent;\n",
              "      border-right-color: var(--fill-color);\n",
              "      border-bottom-color: var(--fill-color);\n",
              "    }\n",
              "    90% {\n",
              "      border-color: transparent;\n",
              "      border-bottom-color: var(--fill-color);\n",
              "    }\n",
              "  }\n",
              "</style>\n",
              "\n",
              "  <script>\n",
              "    async function quickchart(key) {\n",
              "      const quickchartButtonEl =\n",
              "        document.querySelector('#' + key + ' button');\n",
              "      quickchartButtonEl.disabled = true;  // To prevent multiple clicks.\n",
              "      quickchartButtonEl.classList.add('colab-df-spinner');\n",
              "      try {\n",
              "        const charts = await google.colab.kernel.invokeFunction(\n",
              "            'suggestCharts', [key], {});\n",
              "      } catch (error) {\n",
              "        console.error('Error during call to suggestCharts:', error);\n",
              "      }\n",
              "      quickchartButtonEl.classList.remove('colab-df-spinner');\n",
              "      quickchartButtonEl.classList.add('colab-df-quickchart-complete');\n",
              "    }\n",
              "    (() => {\n",
              "      let quickchartButtonEl =\n",
              "        document.querySelector('#df-87f75b26-a99a-43cc-91ee-2a432ae8f66a button');\n",
              "      quickchartButtonEl.style.display =\n",
              "        google.colab.kernel.accessAllowed ? 'block' : 'none';\n",
              "    })();\n",
              "  </script>\n",
              "</div>\n",
              "\n",
              "    </div>\n",
              "  </div>\n"
            ],
            "application/vnd.google.colaboratory.intrinsic+json": {
              "type": "dataframe",
              "variable_name": "df",
              "summary": "{\n  \"name\": \"df\",\n  \"rows\": 8627,\n  \"fields\": [\n    {\n      \"column\": \"statement\",\n      \"properties\": {\n        \"dtype\": \"string\",\n        \"num_unique_values\": 8503,\n        \"samples\": [\n          \"She thinks instead I should ask if I can read him how it has impacted me since this has happened. I don't know what to do. It's coming up so quickly and I'm feeling a twinge of anxiety as it gets closer. I keep telling myself I did everything I possibly could and that I should do what feels right to me even if it means I may feel like I'm going backwards at times. I also have to make a decision on if I want a permanent restraining order or a non violent contact order.\",\n          \"I am ending my life.. I am bored and I may not be a good person. I am jealous of many peopleI'm 40 so i had a good run. I only regret not giving me the chance to lovr love someone. So this is it\",\n          \"People talk about life having meaning as a wonderful thing, but I see it as an idiotic concept that is perpetuated by the most idiotic and unaware people. These people cannot get around the fact that life has no meaning, so they not only feel like they have to lie to themselves, but also lie to everyone else in order to make them believe their absurdity so they will verify their own views on human existence.The ideologies that center around human life having cosmic meaning are built on lies upon lies. Meaning is not brought upon a person the moment they are born, unlike what some people might want you to believe. The moment you are born, your life has just as much meaning as a rock or a pile of dirt, because everything in the universe is just piles of matter from the moment they come into existence to the moment they are destroyed.Consciousness is the only difference between living matter and inanimate matter. But being conscious does not change the fact that our existence is meaningless, it only means that we have the ability to comprehend our meaningless existence.All of our abilities, accomplishments, goals, and dreams do not change the fact that our lives are meaningless. It does not matter what we do with our lives to try and prove our worth as humans, none of that causes our existence to have meaning. We could invent lightspeed space travel, immortality, or even time travel and that still will not make us anything more than meaningless creatures that have accomplished extraordinary things.No matter how it makes us feel, humans, along with all other living creatures, are just things - things that just so happen to be conscious, but things none the less; and no matter how hard we try to not think about it, this is a fact of life that cannot be changed with lies and idealistic thinking. Life having meaning is a horrible lie\"\n        ],\n        \"semantic_type\": \"\",\n        \"description\": \"\"\n      }\n    },\n    {\n      \"column\": \"status\",\n      \"properties\": {\n        \"dtype\": \"category\",\n        \"num_unique_values\": 7,\n        \"samples\": [\n          \"Depression\",\n          \"Normal\",\n          \"Stress\"\n        ],\n        \"semantic_type\": \"\",\n        \"description\": \"\"\n      }\n    }\n  ]\n}"
            }
          },
          "metadata": {},
          "execution_count": 61
        }
      ]
    },
    {
      "cell_type": "code",
      "source": [
        "df.info()"
      ],
      "metadata": {
        "colab": {
          "base_uri": "https://localhost:8080/"
        },
        "id": "0-DnuMWRF_v6",
        "outputId": "3fef6556-fc03-4814-ebc8-26f4a5a3f511"
      },
      "execution_count": 62,
      "outputs": [
        {
          "output_type": "stream",
          "name": "stdout",
          "text": [
            "<class 'pandas.core.frame.DataFrame'>\n",
            "RangeIndex: 8627 entries, 0 to 8626\n",
            "Data columns (total 2 columns):\n",
            " #   Column     Non-Null Count  Dtype \n",
            "---  ------     --------------  ----- \n",
            " 0   statement  8554 non-null   object\n",
            " 1   status     8627 non-null   object\n",
            "dtypes: object(2)\n",
            "memory usage: 134.9+ KB\n"
          ]
        }
      ]
    },
    {
      "cell_type": "code",
      "source": [
        "df.isnull().sum()"
      ],
      "metadata": {
        "colab": {
          "base_uri": "https://localhost:8080/",
          "height": 147
        },
        "id": "_nr2LxSQGCUB",
        "outputId": "ae785f14-1af5-48a3-b719-bc1829cc516d"
      },
      "execution_count": 63,
      "outputs": [
        {
          "output_type": "execute_result",
          "data": {
            "text/plain": [
              "statement    73\n",
              "status        0\n",
              "dtype: int64"
            ],
            "text/html": [
              "<div>\n",
              "<style scoped>\n",
              "    .dataframe tbody tr th:only-of-type {\n",
              "        vertical-align: middle;\n",
              "    }\n",
              "\n",
              "    .dataframe tbody tr th {\n",
              "        vertical-align: top;\n",
              "    }\n",
              "\n",
              "    .dataframe thead th {\n",
              "        text-align: right;\n",
              "    }\n",
              "</style>\n",
              "<table border=\"1\" class=\"dataframe\">\n",
              "  <thead>\n",
              "    <tr style=\"text-align: right;\">\n",
              "      <th></th>\n",
              "      <th>0</th>\n",
              "    </tr>\n",
              "  </thead>\n",
              "  <tbody>\n",
              "    <tr>\n",
              "      <th>statement</th>\n",
              "      <td>73</td>\n",
              "    </tr>\n",
              "    <tr>\n",
              "      <th>status</th>\n",
              "      <td>0</td>\n",
              "    </tr>\n",
              "  </tbody>\n",
              "</table>\n",
              "</div><br><label><b>dtype:</b> int64</label>"
            ]
          },
          "metadata": {},
          "execution_count": 63
        }
      ]
    },
    {
      "cell_type": "code",
      "source": [
        "df.status.unique()"
      ],
      "metadata": {
        "colab": {
          "base_uri": "https://localhost:8080/"
        },
        "id": "k8pFbz3KGEYw",
        "outputId": "5c775b60-a809-4932-b81d-73278ffd03b2"
      },
      "execution_count": 64,
      "outputs": [
        {
          "output_type": "execute_result",
          "data": {
            "text/plain": [
              "array(['Depression', 'Normal', 'Suicidal', 'Anxiety', 'Bipolar', 'Stress',\n",
              "       'Personality disorder'], dtype=object)"
            ]
          },
          "metadata": {},
          "execution_count": 64
        }
      ]
    },
    {
      "cell_type": "code",
      "source": [
        "mode_status = df['statement'].mode()[0]\n",
        "df['statement'].fillna(mode_status, inplace=True)\n",
        "print(df.isnull().sum())\n",
        "print(mode_status[0])"
      ],
      "metadata": {
        "colab": {
          "base_uri": "https://localhost:8080/"
        },
        "id": "UMsn5MnwGPrg",
        "outputId": "8bcdaaa3-66a0-4876-a914-880083631b90"
      },
      "execution_count": 65,
      "outputs": [
        {
          "output_type": "stream",
          "name": "stdout",
          "text": [
            "statement    0\n",
            "status       0\n",
            "dtype: int64\n",
            "w\n"
          ]
        }
      ]
    },
    {
      "cell_type": "code",
      "source": [],
      "metadata": {
        "id": "ZEJ07UIsMH3x"
      },
      "execution_count": null,
      "outputs": []
    },
    {
      "cell_type": "code",
      "source": [
        "# NLP Processing\n",
        "import nltk\n",
        "nltk.download('punkt')\n",
        "nltk.download('stopwords')\n",
        "nltk.download('wordnet')\n",
        "from nltk.corpus import stopwords\n",
        "from nltk.stem import WordNetLemmatizer\n",
        "import string"
      ],
      "metadata": {
        "colab": {
          "base_uri": "https://localhost:8080/"
        },
        "id": "zjEavDg5GVHC",
        "outputId": "91a471c9-eb01-4c09-837c-2a873c75cbc2"
      },
      "execution_count": 66,
      "outputs": [
        {
          "output_type": "stream",
          "name": "stderr",
          "text": [
            "[nltk_data] Downloading package punkt to /root/nltk_data...\n",
            "[nltk_data]   Package punkt is already up-to-date!\n",
            "[nltk_data] Downloading package stopwords to /root/nltk_data...\n",
            "[nltk_data]   Package stopwords is already up-to-date!\n",
            "[nltk_data] Downloading package wordnet to /root/nltk_data...\n",
            "[nltk_data]   Package wordnet is already up-to-date!\n"
          ]
        }
      ]
    },
    {
      "cell_type": "code",
      "source": [
        "# Text preprocessing function\n",
        "def clean_text(text):\n",
        "    text = text.lower() # lowercase\n",
        "    text = \"\".join([char for char in text if char not in string.punctuation]) # remove punctuation\n",
        "    text = \" \".join([word for word in text.split() if word not in stopwords.words('english')]) # remove stopwords\n",
        "    lemmatizer = WordNetLemmatizer() # lemmatize the words\n",
        "    text = \" \".join([lemmatizer.lemmatize(word) for word in text.split()])\n",
        "    return text"
      ],
      "metadata": {
        "id": "8jDO-wdEGbK5"
      },
      "execution_count": 67,
      "outputs": []
    },
    {
      "cell_type": "code",
      "source": [
        "df['clean_statement'] = df['statement'].apply(clean_text)"
      ],
      "metadata": {
        "id": "TAJoF8vqGd2y"
      },
      "execution_count": 68,
      "outputs": []
    },
    {
      "cell_type": "code",
      "source": [
        "# Example: TF-IDF Vectorization\n",
        "from sklearn.feature_extraction.text import TfidfVectorizer\n",
        "\n",
        "vectorizer = TfidfVectorizer()\n",
        "X = vectorizer.fit_transform(df['clean_statement'])\n",
        "y = df['status']"
      ],
      "metadata": {
        "id": "QGZyJMI8GgHx"
      },
      "execution_count": 69,
      "outputs": []
    },
    {
      "cell_type": "code",
      "source": [
        "from sklearn.model_selection import train_test_split, cross_val_score, GridSearchCV\n",
        "from sklearn.linear_model import LogisticRegression\n",
        "from sklearn.ensemble import RandomForestClassifier\n",
        "from sklearn.svm import SVC\n",
        "from sklearn.naive_bayes import MultinomialNB\n",
        "from sklearn.metrics import  accuracy_score, precision_score, recall_score, f1_score, confusion_matrix, roc_curve, auc\n",
        "from sklearn.feature_extraction.text import TfidfVectorizer"
      ],
      "metadata": {
        "id": "aXF6KOqAGwDp"
      },
      "execution_count": 94,
      "outputs": []
    },
    {
      "cell_type": "code",
      "source": [
        "# Split data\n",
        "X_train, X_test, y_train, y_test = train_test_split(X, y, test_size=0.2, random_state=42)"
      ],
      "metadata": {
        "id": "FxNIEV73GyzJ"
      },
      "execution_count": 71,
      "outputs": []
    },
    {
      "cell_type": "code",
      "source": [
        "# Models to evaluate\n",
        "model = {'SVM': SVC()}"
      ],
      "metadata": {
        "id": "epmBA7t6G1MZ"
      },
      "execution_count": 72,
      "outputs": []
    },
    {
      "cell_type": "code",
      "source": [
        "# Hyperparameter tuning and cross-validation\n",
        "\n",
        "best_accuracy = 0\n",
        "param_grid = {'C': [0.1, 1, 10], 'kernel': ['linear', 'rbf']}\n",
        "grid_search = GridSearchCV(SVC(), param_grid, cv=5, scoring='accuracy')\n",
        "grid_search.fit(X_train, y_train)\n",
        "\n",
        "y_pred = grid_search.predict(X_test)\n",
        "accuracy = accuracy_score(y_test, y_pred)\n",
        "\n",
        "print(f\"Accuracy: {accuracy}\")\n",
        "print(classification_report(y_test, y_pred))\n",
        "\n",
        "\n",
        "if accuracy > best_accuracy:\n",
        "    best_accuracy = accuracy\n",
        "    best_model = grid_search.best_estimator_\n",
        "\n",
        "# The line containing 'z' has been removed as it serves no purpose\n",
        "print(f\"\\nBest performing model: {type(best_model).__name__} with accuracy: {best_accuracy}\")"
      ],
      "metadata": {
        "colab": {
          "base_uri": "https://localhost:8080/"
        },
        "id": "TsMKil7SG4sp",
        "outputId": "8ee5e86d-0401-479c-bb3c-af18a69e2e62"
      },
      "execution_count": 73,
      "outputs": [
        {
          "output_type": "stream",
          "name": "stdout",
          "text": [
            "Accuracy: 0.7271147161066048\n",
            "                      precision    recall  f1-score   support\n",
            "\n",
            "             Anxiety       0.78      0.83      0.80       121\n",
            "             Bipolar       0.82      0.71      0.76        89\n",
            "          Depression       0.64      0.74      0.69       514\n",
            "              Normal       0.83      0.94      0.88       540\n",
            "Personality disorder       0.92      0.26      0.40        43\n",
            "              Stress       0.62      0.29      0.39        83\n",
            "            Suicidal       0.65      0.51      0.57       336\n",
            "\n",
            "            accuracy                           0.73      1726\n",
            "           macro avg       0.75      0.61      0.64      1726\n",
            "        weighted avg       0.72      0.73      0.71      1726\n",
            "\n",
            "\n",
            "Best performing model: SVC with accuracy: 0.7271147161066048\n"
          ]
        }
      ]
    },
    {
      "cell_type": "code",
      "source": [],
      "metadata": {
        "colab": {
          "base_uri": "https://localhost:8080/"
        },
        "id": "FNcRK09zIdgD",
        "outputId": "972f9078-4f87-4b7f-a9d9-6de611377069"
      },
      "execution_count": 74,
      "outputs": [
        {
          "output_type": "execute_result",
          "data": {
            "text/plain": [
              "['best_model.joblib']"
            ]
          },
          "metadata": {},
          "execution_count": 74
        }
      ]
    },
    {
      "cell_type": "code",
      "source": [
        "loaded_model = joblib.load(model_filename)"
      ],
      "metadata": {
        "id": "AOX4xaMqJl4a"
      },
      "execution_count": 75,
      "outputs": []
    },
    {
      "cell_type": "code",
      "source": [
        "def interactive_prediction_loop():\n",
        "    print(\"Welcome to the prediction model! Type 'exit' to quit.\")\n",
        "\n",
        "    while True:\n",
        "        user_input = input(\"Enter a statement for prediction: \")\n",
        "\n",
        "        # Check for exit command\n",
        "        if user_input.lower() in ['exit', 'quit']:\n",
        "            print(\"Exiting the prediction loop. Goodbye!\")\n",
        "            break\n",
        "\n",
        "        # Clean the user input\n",
        "        cleaned_input = clean_text(user_input)\n",
        "\n",
        "        # Vectorize the new data using the same vectorizer\n",
        "        X_new = vectorizer.transform([cleaned_input])\n",
        "\n",
        "        # Make predictions\n",
        "        new_prediction = loaded_model.predict(X_new)\n",
        "\n",
        "        # Print the prediction\n",
        "        print(f\"Statement: {user_input}\")\n",
        "        print(f\"Prediction: {new_prediction[0]}\")  # Assuming the prediction is a single value\n",
        "\n",
        "# Start the interactive prediction loop\n",
        "interactive_prediction_loop()"
      ],
      "metadata": {
        "colab": {
          "base_uri": "https://localhost:8080/"
        },
        "id": "4RLV2cbqMdCi",
        "outputId": "a0fee772-275d-459f-97dd-039bf32c40fc"
      },
      "execution_count": 102,
      "outputs": [
        {
          "output_type": "stream",
          "name": "stdout",
          "text": [
            "Welcome to the prediction model! Type 'exit' to quit.\n",
            "Enter a statement for prediction: Well , I am been depressed.\n",
            "Statement: Well , I am been depressed.\n",
            "Prediction: Depression\n",
            "Enter a statement for prediction: I think suicide be better option.\n",
            "Statement: I think suicide be better option.\n",
            "Prediction: Suicidal\n",
            "Enter a statement for prediction: All wrong, back off dear, forward doubt. Stay in a restless and restless place\n",
            "Statement: All wrong, back off dear, forward doubt. Stay in a restless and restless place\n",
            "Prediction: Anxiety\n",
            "Enter a statement for prediction: Work, despair, dread here is to another day of shit! least it is payday though there is not anything I can buy that will make me happy for more than 5minutes... another night of dreading tomorrow\n",
            "Statement: Work, despair, dread here is to another day of shit! least it is payday though there is not anything I can buy that will make me happy for more than 5minutes... another night of dreading tomorrow\n",
            "Prediction: Depression\n",
            "Enter a statement for prediction: i just know i would be at peace finally when I am dead then i would not be able to destroy everything i touch. I am trying so hard to hold on but I am so tired. i ruin everything. i let my insecurities get the better of me every single time. i just want to leave idk how much more of this i can take. dude i literally do not want to be here\n",
            "Statement: i just know i would be at peace finally when I am dead then i would not be able to destroy everything i touch. I am trying so hard to hold on but I am so tired. i ruin everything. i let my insecurities get the better of me every single time. i just want to leave idk how much more of this i can take. dude i literally do not want to be here\n",
            "Prediction: Depression\n",
            "Enter a statement for prediction: New sub created for depressed fellows to make friends :) Hi everyone! We understand how tough it is to go through depression alone, and how important emotional support can be. Thus, we have created a platform catered specifically for depressed redditors to share their social experiences and make friends with one another!. This new sub is called /r/FriendsForDepressed/, and we gladly invite you to join our subreddit! Thank you for reading and we hope you have a nice day ahead :)\n",
            "Statement: New sub created for depressed fellows to make friends :) Hi everyone! We understand how tough it is to go through depression alone, and how important emotional support can be. Thus, we have created a platform catered specifically for depressed redditors to share their social experiences and make friends with one another!. This new sub is called /r/FriendsForDepressed/, and we gladly invite you to join our subreddit! Thank you for reading and we hope you have a nice day ahead :)\n",
            "Prediction: Depression\n",
            "Enter a statement for prediction: exit\n",
            "Exiting the prediction loop. Goodbye!\n"
          ]
        }
      ]
    }
  ]
}