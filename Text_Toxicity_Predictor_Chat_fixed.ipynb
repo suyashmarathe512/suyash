{
  "nbformat": 4,
  "nbformat_minor": 0,
  "metadata": {
    "colab": {
      "provenance": []
    },
    "kernelspec": {
      "name": "python3",
      "display_name": "Python 3"
    },
    "language_info": {
      "name": "python"
    }
  },
  "cells": [
    {
      "cell_type": "code",
      "execution_count": 2,
      "metadata": {
        "colab": {
          "base_uri": "https://localhost:8080/",
          "height": 1000,
          "referenced_widgets": [
            "f7e723061cfd4dfdb99ecdba9d7614b4",
            "b59178cf8a1a462ab90ed93520a5a510",
            "4e79fe98d9a94afca3cf628b768c2dd1",
            "d9135914c31e48a0881bb5fda66d90aa",
            "087ada8de9334d9690f664deec98cfe6",
            "eeb97f5d1fa74db08a70db3fecd73552",
            "95ea2da5d895488886b11b767a1403dc",
            "56305edcc4a447ea83b6e2c1bb366fa8",
            "e12926da1ec8460caaea1286369afa9b",
            "32b06cb23de24a3184805521b1ddd0ed",
            "f67c4fe451af4aa1b6788e9edd94461f",
            "b6a123e858c24ab480af95fc6cdb5b92",
            "55bb01e487a740b5b85ec1821eeab360",
            "3bc0ea009e344f109a0cabc82a67cb8e",
            "9c33210e9bb14fcea79650a2175e06f6",
            "4287a2f665204a4f8593160657a137ba",
            "a721d6bc3f5c48eba213e147cba4e88e",
            "1fa6b4deed9246a896f2695598075aa4",
            "c84f1e26e7094473950f9a1d6e01d1b9",
            "92b8ea125c9542569cbc2cd49ef15aa9",
            "8c0ed1cf848d4f0d8b21252fb9a255e3",
            "a5045ecf40ba4e0b997a43b5a3d688f5",
            "8ed8838dcffe4ae192501040555d9a88",
            "c82a92227a9249e88dd49697ed600e20",
            "6886c73841934af0ae32cb00c4218020",
            "a5f6cf9197a7492b97fe02cab4ced6d5",
            "6595c653b6244638b1e2a43fd01cada4",
            "deedc915328c4f1098494fd4cbf1bb25",
            "106f36f5107243fe807d662caa4c7fe2",
            "b58acace5fa24c23bffb75a82a499a28",
            "7a78e200afe74118b2e0b3734cd90cd1",
            "864613fdceed48849b62a72a75e3acce",
            "c78526871a3f47e290ff218cf0b74841",
            "df75f0401fe64aa69335079f45eabc63",
            "5c49f80a0c384af0b6113cea25e74780",
            "0ba05e31737749e584bbe48a4c3e92e4",
            "454236f0c2fd470eb5194c283f6152b8",
            "e4f1800ee406477c85e2681e989a1e12",
            "fe338cb1b0704238824248ba0c460e2b",
            "46ceae4134b04228951152744f95db0b",
            "7239a3388d454ca8bba7d3eae70d30f6",
            "52e86b982ce84f60bf309512ead5428a",
            "794b22efcf274e99b57de4c76710f101",
            "b40e307b11ae4d0496d44038db1b2b32",
            "e803b3d3574c42d999d388ddb0cdabf1",
            "11621207a4ad4c53bb8bd58769e72118",
            "e558b824aa0f4e22aeb84afcc016abfe",
            "7990222e7add4dd8a6374ccdfd9fe9f1",
            "0ef6c91d25d943408e4b4ea2a4abffad",
            "788c1e8b751b4184803110b85b7ea4e9",
            "3859f01ebf4f4822b081c36f631864c6",
            "3656e1a978024d61a43a57cbe8df6b1f",
            "20d3ee04a72241a698f4d1fc9b6d6ffc",
            "a873bbaaa73148b98037a1458a0cfe05",
            "cdbad923dd9c4745aee34900010ed6f7",
            "a99ebde61fa04609a9ecc9b61825412c",
            "ec5c5d589e974bf58795978cb3be4c42",
            "1aaec7d3d4704105b2885c4acb256c44",
            "daf0a3dd0af04559915d038c789a7d16",
            "eece41450abc47f38e22bd0be6b31388",
            "bd210a6ea4e94fd193f7824f9d803691",
            "ba389423f6c247bba8f7efa3fd370373",
            "0fa8059288414466a6f35566ea22a637",
            "ac383823bce64cc58048dba430dfc311",
            "5bd3a162cc7e4fdfaf5c3c8c51d23e2b",
            "76b1addeb663474b9fe133df5680cd86",
            "ef8ff4e1b9e343eea85007d6b8671acf",
            "29be95af10c242da8ba7579b80ef9b1d",
            "686d5fcfb2da4b5188f479ecb0219c42",
            "8b8396c681a24788826acaff450d2e41",
            "008b1c66ee1447249cf51ddba0da37c3",
            "3d1da326faa94004a2f5661165fa46e0",
            "cb625af4c68b4a29a0fd07f129e35343",
            "b327740330b343639e7bd136b153cf99",
            "a8ece6e7cdc940559317fc26cd74f094",
            "00ea9d50ee874517b95d5379acd69148",
            "7aef29c08cf24746be16649fb5f3034d",
            "9c5176bcdd144578a1ca92c8d8729f0f",
            "842e7c3144ad44d09f461baf224d2d1f",
            "f23a6f5e06ba4b75bc6c75324569e4cf",
            "e66c5ecb9b034a90ab6d420e2fadb3d2",
            "a89e371ac178405ba45bdadab029e08f",
            "b5b5de845e7e4003b949e3bec7b711a5",
            "281492c9f2274301845f462055cf1ef7",
            "d904998ee9e64774bcdd78e9a27a9e47",
            "55214ce38a7b4c2198c787d7c4076c14",
            "1b4ba8d64df04d47b4eb9d6e27486072",
            "09c564b1578a4928a659e1968b7d3303",
            "9113b4b5db504d0c9a0339093244834f",
            "ffc8090098414cac8273a077362d0f5f",
            "fa27e26332dc4cfda5552e1089ce95cc",
            "5040ec7d4ef94d528b8ed24557adb25d",
            "ded2adf9c2ae4b2bb3ffc1f15db0e0f6",
            "b14107e036724bc482c728027c1eab84",
            "e605cc09972a47789a5f51fe7950016f",
            "f43efc5fa5ec4616a29d872ae6f8db79",
            "cb7a4b679c314e158dacc698345cb1a9",
            "2c2d75bf3957416e83202710553b1f41",
            "b2b03a1bf5a147a5986ea4911ef2a5fa",
            "fda8363ca0164e35a0d8884a02987143",
            "d918805836434dd3b994b487c5568afd",
            "cbef1838d362416bbe8273c5881438fa",
            "083c561ed01b4cbe8f6f2982676e7efb",
            "4b1d58ead5e04e5b8456b6eb563c6cb8",
            "8b6021522ced4eee9f07b20664814903",
            "09fea14568eb4040b1cee3615a42276d",
            "3ab7664d1afe418ba081c91acdcc0e02",
            "a5f0f833e2e744c6be4d2e7f4ae7b4bb",
            "b1c6a25f37144059bd1879c69351b9a9",
            "ecc847c2432943c78e2e7782acf0f87f",
            "d83fd07b804f481e9d163f3c97a8b524",
            "358bf94bbf824999be4a1808dbd187eb",
            "8ac34e7284da415898fcdfbb977ec722",
            "1f1897a8b1d64832a97eddd14af28bc2",
            "d409bc6161e54074b53ac11bcf0d7144",
            "e92bf31afb07497398df6fdac3b250d5",
            "0f36435c5d814c0ab284eb2a82c6a923",
            "edb0cfd227f842009b22c555ad89acec",
            "83f1717adc3844d89b072c7e0476ec22",
            "a0125058b59e4739a6c17a016bffb40e",
            "29bb5218fbc34c5183d177d2f244cf3f",
            "fd741f81fc5245aea24ae379c8c7e0c1",
            "772ba0b105114fdfbc3aab9ec4889880",
            "a2e635e7668a4c8f814d18aff0ae2a1b",
            "f0d4916b871140d2b15783114aab4906",
            "3ce1e67da24246329664de97d98ddc5e",
            "df0ec4b9e3a1409ba7ad1eb2a3682a8a",
            "6af21080bdca481cb160378fa9953c7b",
            "abba2fd2cefe4b748091936944fb99d6",
            "1ae35a08a3034453bd5b67ce1e81b757",
            "d2c3db10da574e30923860715662aa23",
            "6fb999bfc5c5460493ad8b5ebe6624bd",
            "cb2550dadd7c49fabeac5fdb7634b83e",
            "281c540fd0c847da9cf630b009098699",
            "251825e6d45f47ad9dcc9fc0660194ae",
            "77ffc044084d470591d6c4bcb4065176",
            "4d0919e8a2534fe79137fafdce9ae32f",
            "fae9a3ff2c2d4c8b92850593d6220081",
            "0db1d4d63ce8478098d377951f1633d9",
            "331ad221c2a04e8ebf7d983483de29d1",
            "018eb986d31d41dfbc1a80ec44e71fe2",
            "eddee79ffc7749b3aea8c117aff939c5",
            "70b352db5d2b4c8f93fcbf87e8206826",
            "ff97f8b0e9f944e6b4bad9211ec70097",
            "652fc116539743758ecb2bbb79a4512a",
            "c5cf0b6608e14fe89b472e38c1ec7e64",
            "2d2b9839496246ef8f3fc14e30729e46",
            "21e9e2ca66494132b6b52ad2924a27c5",
            "8c433324e4fa4cbf9006f42e87c8f35a",
            "94fc3d0bdbd94182ac43301644de6fbd",
            "adbb208d4cfc4c6e963d70736780192d",
            "e41fee24c78446f09b0f499c82293ff5",
            "d15ef94235ed45a5b7c7b63121f73150",
            "39c54a6074c84f11aa098367d9d9ed41",
            "09497880cd3447efbc5bbd73e2bd0eb9",
            "821ad692771f411299b2ef49e8557567",
            "c51786431e534b8d9b2cfd362b1d4c64",
            "39ba1c7d5733474c9773fbb9f0949016",
            "3528f030e9534486a48d2d0d8dfa987e",
            "80bc5b817a164efcbaf57aa7e6090922",
            "17aeb0e56d6840e683cd90358a98aadb",
            "b0056d8161cc48c1881cf0199775cd63",
            "b863984cbfea42d58bdea6ff05bcad81",
            "46bf8df80ec34c6093b5f11c611c3870",
            "224d371b7e4f4177a90ae211024575b8",
            "0a802a6873b04f26b04413aab4cdcf93",
            "0e2b8b307e4548f0ac3438b15f24ffd6",
            "cd2ed247d8b14c0586ca67244c18d56f",
            "16bc4552ee154f61a92703496a31a02e",
            "985f31164c3c4e29a2350212dd7b4f8b",
            "3b2f74e4880246a88b1183008b6aa5dc",
            "74430c9cae2f460aa77823058688536a",
            "994f3105358143a387f01724d468f5ba",
            "57ec7135eac541f9b6df65452727239f",
            "7949588c1b6c41d88569bde75a54c35e",
            "1bd03cd27b3f4c769ee471a2aa8d78a8",
            "96517bc7498a4099bba3e4de71189ec6",
            "78d94802bc334fe592d680be263cacde",
            "351b334c3b42433fb4bdee98c0f7fc3b",
            "8e5f554907304d918a126bb84ac850bb",
            "443f7e470d6d4782b53fa4322d90617b",
            "00676e831d554872945d873fb8185ca0",
            "6dd6da1ec86c4ad7b68e6e3f86a0e167",
            "f3bc201b6cb0491491e87f2b1a3a1152",
            "d02e9f414717464c9dc751511f8984c1",
            "7f08d3276a34453e8c6d382ace281a37",
            "671378fee3ae4822966ef80d3a546ad7",
            "3fdaf9009d38415c98e95589a1a78b30",
            "e84fbc54d62a427095bc245909de43cd",
            "0663bf43e01645afa66c8ec2873a5712",
            "a73336de1b2e40ca976b86c05f539f07",
            "c5809f9a0dcf4708880cebfeb2ea3970",
            "6873465a14244e5fa799b353259b1ffb",
            "7860b8be90ac465da29b31333e5a202d",
            "864379dc7bd2461a9d11759a7f2c1ad8",
            "c483c3f4ebf84f9cabf73d76fc985543",
            "f81e3b08e4e5432d9277870bf8257edd",
            "3355934eba24432aaa409ba9dcc1564b",
            "dcdb5c7b29884d0288cf078947450afa",
            "5f6d13080e3a443286edcdc0ef05a756",
            "4a44046c534947e7a62d54cdffbce6f6",
            "7c95a50d7d7e4b2b861ded644b866e40",
            "3059f34d986747948af6d851f78569f9",
            "28901adabe1340fd953425fc29754f84",
            "bed3bdf0509e4e0a8656cf1032ef4a02",
            "7a93ae1e12254ae0b926a4067fb63f71",
            "de794aed8be844eda9374a0fcd6fa70c",
            "db0a2d8dc5f84edbae8a5c5be4e9db01",
            "983db6408b2444d1be4f12ecb27feb01",
            "5568434813364147ab4ae760ed4881b0",
            "439d64706dae4a29aaf1986a573d3c2c",
            "3f9d52d081f94206ad422f6c7c47d1d8",
            "824fa26fe9de464b8e146798cecfef50",
            "8f15290a0edf482f8d1fa50af9efe2cb",
            "f64d9c302c6f47999f6c536622665d18",
            "7d441b2511f04e3db1bc1558427fca1c",
            "d013829addff4b51abfdc82dc302a60b",
            "ca4b06ae3577470e9f7c0f295525df37",
            "0feee4cf44a0438895fd2e498016f64a",
            "fe918d578a1644618fe0bbdb4b17138f",
            "084607b7b3ff42c19049f1b0627cf14a",
            "b98bca921c714ba299c5bd6fdd7863fc",
            "a3d6ef01ce764f8ca7cf61ae90430113",
            "d996f30995764531b22e3ed1afb3ffed",
            "e74bcac7f3e94906b3793d99b676aab8",
            "c772b5acd4fb4c59bae0263a0ffe28de",
            "1b07d0c852ee49cebb83c2a8201e7454",
            "03a63a68a90140039577cf70a0e68f11",
            "a1f60597478a42b282626cf39f74e28e",
            "30715450e0a846d8a5e9de163f3393d4",
            "ccbc39e49f0f4002bb4b673e6286bd24",
            "a2b99ce02ad04d29a75374a02f7a8141",
            "16c273701d3845b3a44989722e309864",
            "0c6012a96c5a4112a7ed359bef5dbc24",
            "4e753228d707475ab7464f62c6975747",
            "f6f24951fbf94f6f927bf9c248823820",
            "22155d27cfa746c3ae6043335c1bb7b2",
            "a42b479ae0f642a9a305d4b301e1a837",
            "441dcb21a2064cd2bd93f5ce0ce4778e",
            "6d7edf919a404bea86d674a2f78fb810",
            "f95efcc193934d31ad28b57b41562e9f",
            "c39569ea523f4906806befa522118cad",
            "2567d8e3fba14734a5d02df0a9260fb0",
            "441486f2e6c8442988ef9ac418c8d54c",
            "eb9ef53364694ad4990de729f946b99a",
            "b97431c42b264885843ada99f87e67d7",
            "38091fde190646f389ee8572ff7833c6",
            "1a2dfbb7b929412aa07ef1bf470fce0e",
            "145d98677b90410996538475e5a6e662",
            "f82cc4d83f3c403796f14e38b95a7218",
            "2f3cb99c08d34a7aafc8c7841a08da30",
            "0eb781d1068c419098029de85de2068a",
            "a3895b6ecbb14b5b82e69379e1b16dbd",
            "1bd2f02204e84c418106bad8d164d41f",
            "781a5399bd1349848e20908594d25cdd",
            "e2501e2b3b844cf585f2cb085ea6b53a",
            "5133a3422e294519911b617f7af7e058",
            "10187e4009344bda828dca7b5895f43d",
            "0e11f27d943144838839c176e29c0ebb",
            "ec8167c26503402bb335c8a511956bce",
            "0cbeb1fa3ce14a0abfe4b7ea236bdb59",
            "78168eb579d4422b9a21fcf0775e2924",
            "7a8a4e69a3c644df82e58e6121d6a991",
            "a1fd7b9fc2254936afb5775c41c69700",
            "ab170b0623cf439093844593f476665c",
            "78a35203298941e7a50b5ed006a89c0e",
            "76fdb1251d964eba9a1a229b7332e78d",
            "4e471f76100e41f0b65913586a9931d3",
            "27676ff7020a40bd8fe07c8b8005a5d4",
            "3344f4a65ef44a2bb7132d68f442f424",
            "0709b6f152944a5fb015972cda187de8",
            "9e209a5c663e476a83e49606cc39bf5e",
            "e2be839e9b7d4529bf56d49891e084c0",
            "be6979ba76084387993ad796546cac46",
            "3114f620f34b4fa190c947fbb768b886",
            "9e8f21c7b36045c7bbc791f362cedcd8",
            "4f9da82d403644409b6eccfb8478497b",
            "689753f826f44ac293d355365fbcbbbf",
            "d54aabb4f96b4702819acf5d1da8875e",
            "68e6b497dc6f41d1b6b87185aad17aa2",
            "1f58a213c02f43cea9db2a4675ddea24",
            "591576c72f5349399f46592fc8ff8229",
            "88a3f45f0e6f4a6392cd4f32263652ef",
            "f0b9a1bd62a1487087f17fcfde3dfdde",
            "dfdba5a47d0f4c37ac133aa7a08200f8",
            "a11dbfd1797444988cffdd109a85f2db",
            "76e48b85a0444ef49631183574a1ce17",
            "811c5f46f90a4bdaa39939a23ed5a5eb",
            "400114c95421464c86ff1afd996a749f",
            "81589d8216f44d4bbb65775acb96feb6",
            "bd1aaa570fa84b60bd3a295613d93c04",
            "ba73ef1fe0c14c63b200a110830a13e1",
            "cc115b2fd05e4547bda08003356dfbdf",
            "5a269781d0034feda7ef35f0a530211c",
            "e355bbdd9e914fd693edb078307e7a53",
            "94669591b5684eab8349ace558d9de7e",
            "81b1a0557aa64b94b68a243cc6e45ca2",
            "37f3e1e04b4242a8991ff62ab3b6b8e3",
            "5bf196c7ed4b41dea60d38f73788aeec",
            "eeeab679884747f997e39955d14e2011",
            "e99f97c9a3ec442e94b72ddb9649d07f",
            "b26d801bb90a4948a086734cb68b42f8",
            "7ac8b9b860fc46c6afd58d05a0963c2a",
            "c060732c01da4937b6827759bfaf6952",
            "0d10e94ef7b342f6b7a1ff3eb9fe5868",
            "9fdd0244c5cf441093eb9a23437ef9bc",
            "8a3bdc7fa0c14d9ca1799f74bb0475f9",
            "5aa274690d5a47f0979a611c793db791",
            "bd4265d0199c41b3a03689b0749eb019",
            "6708852661aa416587b6b98e2b9a0496",
            "abd32200a62143069626b2b163646f1f",
            "e91d324a5500452587fc2e9acd9519e6",
            "6f755af046554db88224c8b4af851816",
            "6e92daddf4dc45f78e9701198c4c7bf4",
            "7c154ee123874739b1c325cda5cb37f0",
            "3fadb47de55944109ba51bf957fdacb7",
            "51268cdd193f4619b2ab50667f5762eb",
            "76a921dea81f4ea9913e82728658518f",
            "bcfa695a9e40433f95388c98f1e232c5",
            "7547d7e795e34669b963d4dce555f834",
            "ac9dbb7cdae54bb7a4e439d044f9a6d8",
            "f83cbf450ea74e04914fb61640cfd77e",
            "c4356a81b15e425babe866572ff2c2ef",
            "e2f8eac80c474c51bc5cd05894c62038",
            "9c7dd9d57d9b4444a51c6d464164beb8",
            "6d22e510a5284f0e8894f730e11db9f2",
            "4a1c796edba54410b70898230b6fa0d8",
            "9fcb1cc0819b40a79ef09da993614066",
            "528dc733e38f4891aa2186687a0dda23",
            "80807d4e4676454aa9f696d58c32d9c7",
            "95d99417f3784053a9e2691178ea713e",
            "73a2787b418d44ad933161b798f8b2dc",
            "bc36c2d992fc4539ba669cf9f91c9f78",
            "b606a544299a48dd9aeb2a0251d2cebd",
            "f4f03b6712cc4a079a587dc32fa0bc90",
            "c79319b51a124e92b72593c861fa7c6e",
            "a7b331521f7043e69edd59010c6be7f1",
            "92c36e9f89a84ac1a7640f82175934b7",
            "769d7392bfee4da3bac086f917c0f701",
            "4d1bd8197cb9419da115e4eeb94b07f9",
            "1982c128a4034754980aa039d4f2bc96"
          ]
        },
        "id": "pD-Ar64lHuAd",
        "outputId": "83738e8b-ce7e-466f-ce91-73e0faeba630"
      },
      "outputs": [
        {
          "output_type": "stream",
          "name": "stderr",
          "text": [
            "/usr/local/lib/python3.12/dist-packages/huggingface_hub/utils/_auth.py:94: UserWarning: \n",
            "The secret `HF_TOKEN` does not exist in your Colab secrets.\n",
            "To authenticate with the Hugging Face Hub, create a token in your settings tab (https://huggingface.co/settings/tokens), set it as secret in your Google Colab and restart your session.\n",
            "You will be able to reuse this secret in all of your notebooks.\n",
            "Please note that authentication is recommended but still optional to access public models or datasets.\n",
            "  warnings.warn(\n"
          ]
        },
        {
          "output_type": "display_data",
          "data": {
            "text/plain": [
              "README.md: 0.00B [00:00, ?B/s]"
            ],
            "application/vnd.jupyter.widget-view+json": {
              "version_major": 2,
              "version_minor": 0,
              "model_id": "f7e723061cfd4dfdb99ecdba9d7614b4"
            }
          },
          "metadata": {}
        },
        {
          "output_type": "display_data",
          "data": {
            "text/plain": [
              "data/en-00000-of-00001.parquet:   0%|          | 0.00/267k [00:00<?, ?B/s]"
            ],
            "application/vnd.jupyter.widget-view+json": {
              "version_major": 2,
              "version_minor": 0,
              "model_id": "b6a123e858c24ab480af95fc6cdb5b92"
            }
          },
          "metadata": {}
        },
        {
          "output_type": "display_data",
          "data": {
            "text/plain": [
              "data/ru-00000-of-00001.parquet:   0%|          | 0.00/388k [00:00<?, ?B/s]"
            ],
            "application/vnd.jupyter.widget-view+json": {
              "version_major": 2,
              "version_minor": 0,
              "model_id": "8ed8838dcffe4ae192501040555d9a88"
            }
          },
          "metadata": {}
        },
        {
          "output_type": "display_data",
          "data": {
            "text/plain": [
              "data/uk-00000-of-00001.parquet:   0%|          | 0.00/360k [00:00<?, ?B/s]"
            ],
            "application/vnd.jupyter.widget-view+json": {
              "version_major": 2,
              "version_minor": 0,
              "model_id": "df75f0401fe64aa69335079f45eabc63"
            }
          },
          "metadata": {}
        },
        {
          "output_type": "display_data",
          "data": {
            "text/plain": [
              "data/de-00000-of-00001.parquet:   0%|          | 0.00/614k [00:00<?, ?B/s]"
            ],
            "application/vnd.jupyter.widget-view+json": {
              "version_major": 2,
              "version_minor": 0,
              "model_id": "e803b3d3574c42d999d388ddb0cdabf1"
            }
          },
          "metadata": {}
        },
        {
          "output_type": "display_data",
          "data": {
            "text/plain": [
              "data/es-00000-of-00001.parquet:   0%|          | 0.00/641k [00:00<?, ?B/s]"
            ],
            "application/vnd.jupyter.widget-view+json": {
              "version_major": 2,
              "version_minor": 0,
              "model_id": "a99ebde61fa04609a9ecc9b61825412c"
            }
          },
          "metadata": {}
        },
        {
          "output_type": "display_data",
          "data": {
            "text/plain": [
              "data/am-00000-of-00001.parquet:   0%|          | 0.00/607k [00:00<?, ?B/s]"
            ],
            "application/vnd.jupyter.widget-view+json": {
              "version_major": 2,
              "version_minor": 0,
              "model_id": "ef8ff4e1b9e343eea85007d6b8671acf"
            }
          },
          "metadata": {}
        },
        {
          "output_type": "display_data",
          "data": {
            "text/plain": [
              "data/zh-00000-of-00001.parquet:   0%|          | 0.00/248k [00:00<?, ?B/s]"
            ],
            "application/vnd.jupyter.widget-view+json": {
              "version_major": 2,
              "version_minor": 0,
              "model_id": "9c5176bcdd144578a1ca92c8d8729f0f"
            }
          },
          "metadata": {}
        },
        {
          "output_type": "display_data",
          "data": {
            "text/plain": [
              "data/ar-00000-of-00001.parquet:   0%|          | 0.00/503k [00:00<?, ?B/s]"
            ],
            "application/vnd.jupyter.widget-view+json": {
              "version_major": 2,
              "version_minor": 0,
              "model_id": "9113b4b5db504d0c9a0339093244834f"
            }
          },
          "metadata": {}
        },
        {
          "output_type": "display_data",
          "data": {
            "text/plain": [
              "data/hi-00000-of-00001.parquet:   0%|          | 0.00/800k [00:00<?, ?B/s]"
            ],
            "application/vnd.jupyter.widget-view+json": {
              "version_major": 2,
              "version_minor": 0,
              "model_id": "fda8363ca0164e35a0d8884a02987143"
            }
          },
          "metadata": {}
        },
        {
          "output_type": "display_data",
          "data": {
            "text/plain": [
              "data/it-00000-of-00001.parquet:   0%|          | 0.00/522k [00:00<?, ?B/s]"
            ],
            "application/vnd.jupyter.widget-view+json": {
              "version_major": 2,
              "version_minor": 0,
              "model_id": "d83fd07b804f481e9d163f3c97a8b524"
            }
          },
          "metadata": {}
        },
        {
          "output_type": "display_data",
          "data": {
            "text/plain": [
              "data/fr-00000-of-00001.parquet:   0%|          | 0.00/388k [00:00<?, ?B/s]"
            ],
            "application/vnd.jupyter.widget-view+json": {
              "version_major": 2,
              "version_minor": 0,
              "model_id": "fd741f81fc5245aea24ae379c8c7e0c1"
            }
          },
          "metadata": {}
        },
        {
          "output_type": "display_data",
          "data": {
            "text/plain": [
              "data/he-00000-of-00001.parquet:   0%|          | 0.00/129k [00:00<?, ?B/s]"
            ],
            "application/vnd.jupyter.widget-view+json": {
              "version_major": 2,
              "version_minor": 0,
              "model_id": "cb2550dadd7c49fabeac5fdb7634b83e"
            }
          },
          "metadata": {}
        },
        {
          "output_type": "display_data",
          "data": {
            "text/plain": [
              "data/hin-00000-of-00001.parquet:   0%|          | 0.00/473k [00:00<?, ?B/s]"
            ],
            "application/vnd.jupyter.widget-view+json": {
              "version_major": 2,
              "version_minor": 0,
              "model_id": "ff97f8b0e9f944e6b4bad9211ec70097"
            }
          },
          "metadata": {}
        },
        {
          "output_type": "display_data",
          "data": {
            "text/plain": [
              "data/tt-00000-of-00001.parquet:   0%|          | 0.00/411k [00:00<?, ?B/s]"
            ],
            "application/vnd.jupyter.widget-view+json": {
              "version_major": 2,
              "version_minor": 0,
              "model_id": "09497880cd3447efbc5bbd73e2bd0eb9"
            }
          },
          "metadata": {}
        },
        {
          "output_type": "display_data",
          "data": {
            "text/plain": [
              "data/ja-00000-of-00001.parquet:   0%|          | 0.00/451k [00:00<?, ?B/s]"
            ],
            "application/vnd.jupyter.widget-view+json": {
              "version_major": 2,
              "version_minor": 0,
              "model_id": "0a802a6873b04f26b04413aab4cdcf93"
            }
          },
          "metadata": {}
        },
        {
          "output_type": "display_data",
          "data": {
            "text/plain": [
              "Generating en split:   0%|          | 0/5000 [00:00<?, ? examples/s]"
            ],
            "application/vnd.jupyter.widget-view+json": {
              "version_major": 2,
              "version_minor": 0,
              "model_id": "96517bc7498a4099bba3e4de71189ec6"
            }
          },
          "metadata": {}
        },
        {
          "output_type": "display_data",
          "data": {
            "text/plain": [
              "Generating ru split:   0%|          | 0/5000 [00:00<?, ? examples/s]"
            ],
            "application/vnd.jupyter.widget-view+json": {
              "version_major": 2,
              "version_minor": 0,
              "model_id": "3fdaf9009d38415c98e95589a1a78b30"
            }
          },
          "metadata": {}
        },
        {
          "output_type": "display_data",
          "data": {
            "text/plain": [
              "Generating uk split:   0%|          | 0/5000 [00:00<?, ? examples/s]"
            ],
            "application/vnd.jupyter.widget-view+json": {
              "version_major": 2,
              "version_minor": 0,
              "model_id": "dcdb5c7b29884d0288cf078947450afa"
            }
          },
          "metadata": {}
        },
        {
          "output_type": "display_data",
          "data": {
            "text/plain": [
              "Generating de split:   0%|          | 0/5000 [00:00<?, ? examples/s]"
            ],
            "application/vnd.jupyter.widget-view+json": {
              "version_major": 2,
              "version_minor": 0,
              "model_id": "5568434813364147ab4ae760ed4881b0"
            }
          },
          "metadata": {}
        },
        {
          "output_type": "display_data",
          "data": {
            "text/plain": [
              "Generating es split:   0%|          | 0/5000 [00:00<?, ? examples/s]"
            ],
            "application/vnd.jupyter.widget-view+json": {
              "version_major": 2,
              "version_minor": 0,
              "model_id": "084607b7b3ff42c19049f1b0627cf14a"
            }
          },
          "metadata": {}
        },
        {
          "output_type": "display_data",
          "data": {
            "text/plain": [
              "Generating am split:   0%|          | 0/5000 [00:00<?, ? examples/s]"
            ],
            "application/vnd.jupyter.widget-view+json": {
              "version_major": 2,
              "version_minor": 0,
              "model_id": "a2b99ce02ad04d29a75374a02f7a8141"
            }
          },
          "metadata": {}
        },
        {
          "output_type": "display_data",
          "data": {
            "text/plain": [
              "Generating zh split:   0%|          | 0/5000 [00:00<?, ? examples/s]"
            ],
            "application/vnd.jupyter.widget-view+json": {
              "version_major": 2,
              "version_minor": 0,
              "model_id": "2567d8e3fba14734a5d02df0a9260fb0"
            }
          },
          "metadata": {}
        },
        {
          "output_type": "display_data",
          "data": {
            "text/plain": [
              "Generating ar split:   0%|          | 0/5000 [00:00<?, ? examples/s]"
            ],
            "application/vnd.jupyter.widget-view+json": {
              "version_major": 2,
              "version_minor": 0,
              "model_id": "1bd2f02204e84c418106bad8d164d41f"
            }
          },
          "metadata": {}
        },
        {
          "output_type": "display_data",
          "data": {
            "text/plain": [
              "Generating hi split:   0%|          | 0/5000 [00:00<?, ? examples/s]"
            ],
            "application/vnd.jupyter.widget-view+json": {
              "version_major": 2,
              "version_minor": 0,
              "model_id": "ab170b0623cf439093844593f476665c"
            }
          },
          "metadata": {}
        },
        {
          "output_type": "display_data",
          "data": {
            "text/plain": [
              "Generating it split:   0%|          | 0/5000 [00:00<?, ? examples/s]"
            ],
            "application/vnd.jupyter.widget-view+json": {
              "version_major": 2,
              "version_minor": 0,
              "model_id": "9e8f21c7b36045c7bbc791f362cedcd8"
            }
          },
          "metadata": {}
        },
        {
          "output_type": "display_data",
          "data": {
            "text/plain": [
              "Generating fr split:   0%|          | 0/5000 [00:00<?, ? examples/s]"
            ],
            "application/vnd.jupyter.widget-view+json": {
              "version_major": 2,
              "version_minor": 0,
              "model_id": "76e48b85a0444ef49631183574a1ce17"
            }
          },
          "metadata": {}
        },
        {
          "output_type": "display_data",
          "data": {
            "text/plain": [
              "Generating he split:   0%|          | 0/2011 [00:00<?, ? examples/s]"
            ],
            "application/vnd.jupyter.widget-view+json": {
              "version_major": 2,
              "version_minor": 0,
              "model_id": "37f3e1e04b4242a8991ff62ab3b6b8e3"
            }
          },
          "metadata": {}
        },
        {
          "output_type": "display_data",
          "data": {
            "text/plain": [
              "Generating hin split:   0%|          | 0/4363 [00:00<?, ? examples/s]"
            ],
            "application/vnd.jupyter.widget-view+json": {
              "version_major": 2,
              "version_minor": 0,
              "model_id": "bd4265d0199c41b3a03689b0749eb019"
            }
          },
          "metadata": {}
        },
        {
          "output_type": "display_data",
          "data": {
            "text/plain": [
              "Generating tt split:   0%|          | 0/5000 [00:00<?, ? examples/s]"
            ],
            "application/vnd.jupyter.widget-view+json": {
              "version_major": 2,
              "version_minor": 0,
              "model_id": "7547d7e795e34669b963d4dce555f834"
            }
          },
          "metadata": {}
        },
        {
          "output_type": "display_data",
          "data": {
            "text/plain": [
              "Generating ja split:   0%|          | 0/5000 [00:00<?, ? examples/s]"
            ],
            "application/vnd.jupyter.widget-view+json": {
              "version_major": 2,
              "version_minor": 0,
              "model_id": "95d99417f3784053a9e2691178ea713e"
            }
          },
          "metadata": {}
        }
      ],
      "source": [
        "from datasets import load_dataset\n",
        "\n",
        "# Login using e.g. `huggingface-cli login` to access this dataset\n",
        "ds = load_dataset(\"textdetox/multilingual_toxicity_dataset\")"
      ]
    },
    {
      "cell_type": "code",
      "source": [
        "import torch\n",
        "from transformers import AutoTokenizer, AutoModelForSequenceClassification\n",
        "\n",
        "tokenizer = AutoTokenizer.from_pretrained('textdetox/xlmr-large-toxicity-classifier-v2')\n",
        "model = AutoModelForSequenceClassification.from_pretrained('textdetox/xlmr-large-toxicity-classifier-v2')\n",
        "\n",
        "batch = tokenizer.encode(\"You are amazing!\", return_tensors=\"pt\")\n",
        "\n",
        "output = model(batch)\n",
        "# idx 0 for neutral, idx 1 for toxic\n"
      ],
      "metadata": {
        "colab": {
          "base_uri": "https://localhost:8080/",
          "height": 209,
          "referenced_widgets": [
            "e42d3fbb25c94cf7be58f46d7330a4e1",
            "1f2d4deaca274fcd9fc420c4a13214f2",
            "a9165949ab744f86b7178628edf617e9",
            "035c6ddbf44249969ad4e511b36ce7bd",
            "07015227b5ff40b69ee7817b4bad97bc",
            "9cb50938e8244545a8306a7a10e32625",
            "d019e6ec89994275a8bd1d2f4cddae8e",
            "88a82216709f493f88a748cb30cf4747",
            "501097d70b8e4afd894dc4428080150a",
            "e2472e09163f4ec39d3654080501564d",
            "0d97fbc39f5b4551a0a9b63604337c60",
            "5aa26fc7909247b3a22c1a3d0ebc697a",
            "84bc6e90ee0f435fb56dd710038a8824",
            "25affc5a65ef49e39eb140ca1e6a8bdb",
            "3cd169df97024c5ebd950566b9d0f74b",
            "fb13f38bfb6e498b81c3a18c2d6c9b69",
            "8f9ef1a19bd7489c8bf157a2b3ce051e",
            "76a0f053c38a4e0ead75496d1cf48fdf",
            "74c1b16f1102481c9fc62d9fd878e00f",
            "11453c68f9e44606981fa843605e9fe3",
            "4233d9e63b384836851a60665e2662ef",
            "acf19aae98a34198a4a8cc910dd07508",
            "c95552cca06a40d0bbbf24a0464a84ea",
            "cfe25c755bee4aab87e615ddd1950d01",
            "10a63abe5b39429e8ffefe0835480d88",
            "07c8f46040114b15a7f86335655102f7",
            "6c845ebaec104bdf971579e19a83ed98",
            "743825e3c13e4b889439c26f3197a8b3",
            "27247eeac06440849fd01af173835d12",
            "9931fc5c772d4dea8376bbdbf67a2739",
            "f7d3f84f81754bfc8fdce9ca374ec56a",
            "b94e261621c14e87a72e7bcf43318193",
            "f5f77f6cec2d4d9386003946235a4a4b",
            "4a2d7a1056ea4849a9f56688eda65695",
            "8e0748d653fb4c6e8a90c8d6c78b019f",
            "0bc90193c5124288b654191e34e4d921",
            "2f209811f062482d932741720ce47691",
            "aaf356c70723499d91d37ece394da161",
            "29f0b9dd035747aea262dc78d73bc3f7",
            "e0004f07160a483e8a0046d8d86a8072",
            "f4eb81280a214fdd8c61295191c4a90a",
            "8f8bf27ffdad479080b75ee7490a2a80",
            "aba1884a851e49e89518357e5cf3bf7b",
            "ee11129f47c14f278693634e9d2e8e38",
            "c9188c4068ae414e84f5b2a475c6496e",
            "cdbfddb813a44475a476bbd3e65eb9ea",
            "3e11c08732434c9f9c8f9c7aa2582ecc",
            "13bd12852db84fc6b6651cf89f174ce5",
            "f61503c4c3c24d0b9dd57fdd3754d917",
            "ae2ff1fd5f4a47a7a9679b0047bf004e",
            "cedb5aaf69bd411f9e484c6e4a2d53a2",
            "310639c5b7404f2790db9d1b93b9b0a1",
            "514f65dc9234436f8adcad9bb277330c",
            "a90748d11eea4ca99bdd5a732b35c4fe",
            "ef76397f902042139c405d2d241cb5a8",
            "5a0969623cc04f04a9035867daad09ac",
            "469eb691b28e4b2db46ad4720977403d",
            "54f763194bba4f9d8365284844cd1f5e",
            "75cb0168079e453a8311c47154aa04ec",
            "3da1373c273b4b339fdd7c30a5afb297",
            "09326dbe2539431c81d99b633d4517f5",
            "d22cd25e404b4596afdc29f98dc5f8c2",
            "ba0d676ee77b4b159799cc0e8922caf2",
            "1d5e225662564e298fc8e50e6a554139",
            "d07b2b83ef924436b062a41aa482bd92",
            "81bf6f2dfecd42f39012ea921fd46f07"
          ]
        },
        "id": "9wjreyWpH-Bn",
        "outputId": "09ef4c9e-f556-4ac7-afcd-c0a27b4b932c"
      },
      "execution_count": 3,
      "outputs": [
        {
          "output_type": "display_data",
          "data": {
            "text/plain": [
              "tokenizer_config.json: 0.00B [00:00, ?B/s]"
            ],
            "application/vnd.jupyter.widget-view+json": {
              "version_major": 2,
              "version_minor": 0,
              "model_id": "e42d3fbb25c94cf7be58f46d7330a4e1"
            }
          },
          "metadata": {}
        },
        {
          "output_type": "display_data",
          "data": {
            "text/plain": [
              "sentencepiece.bpe.model:   0%|          | 0.00/5.07M [00:00<?, ?B/s]"
            ],
            "application/vnd.jupyter.widget-view+json": {
              "version_major": 2,
              "version_minor": 0,
              "model_id": "5aa26fc7909247b3a22c1a3d0ebc697a"
            }
          },
          "metadata": {}
        },
        {
          "output_type": "display_data",
          "data": {
            "text/plain": [
              "tokenizer.json:   0%|          | 0.00/17.1M [00:00<?, ?B/s]"
            ],
            "application/vnd.jupyter.widget-view+json": {
              "version_major": 2,
              "version_minor": 0,
              "model_id": "c95552cca06a40d0bbbf24a0464a84ea"
            }
          },
          "metadata": {}
        },
        {
          "output_type": "display_data",
          "data": {
            "text/plain": [
              "special_tokens_map.json:   0%|          | 0.00/280 [00:00<?, ?B/s]"
            ],
            "application/vnd.jupyter.widget-view+json": {
              "version_major": 2,
              "version_minor": 0,
              "model_id": "4a2d7a1056ea4849a9f56688eda65695"
            }
          },
          "metadata": {}
        },
        {
          "output_type": "display_data",
          "data": {
            "text/plain": [
              "config.json:   0%|          | 0.00/776 [00:00<?, ?B/s]"
            ],
            "application/vnd.jupyter.widget-view+json": {
              "version_major": 2,
              "version_minor": 0,
              "model_id": "c9188c4068ae414e84f5b2a475c6496e"
            }
          },
          "metadata": {}
        },
        {
          "output_type": "display_data",
          "data": {
            "text/plain": [
              "model.safetensors:   0%|          | 0.00/2.24G [00:00<?, ?B/s]"
            ],
            "application/vnd.jupyter.widget-view+json": {
              "version_major": 2,
              "version_minor": 0,
              "model_id": "5a0969623cc04f04a9035867daad09ac"
            }
          },
          "metadata": {}
        }
      ]
    },
    {
      "cell_type": "code",
      "source": [
        "batch = tokenizer.encode(\"You are amazing!\", return_tensors=\"pt\")\n",
        "\n",
        "output = model(batch)\n"
      ],
      "metadata": {
        "id": "zXtW6vd6lXer"
      },
      "execution_count": 4,
      "outputs": []
    },
    {
      "cell_type": "code",
      "source": [
        "print(output)"
      ],
      "metadata": {
        "colab": {
          "base_uri": "https://localhost:8080/"
        },
        "id": "09JllQarmemR",
        "outputId": "6595d87d-4416-404c-dfc5-8a0d24c25cb9"
      },
      "execution_count": 5,
      "outputs": [
        {
          "output_type": "stream",
          "name": "stdout",
          "text": [
            "SequenceClassifierOutput(loss=None, logits=tensor([[ 4.0685, -3.0004]], grad_fn=<AddmmBackward0>), hidden_states=None, attentions=None)\n"
          ]
        }
      ]
    },
    {
      "cell_type": "markdown",
      "metadata": {
        "id": "94c384a0"
      },
      "source": [
        "Let's test the model with a toxic example."
      ]
    },
    {
      "cell_type": "code",
      "metadata": {
        "colab": {
          "base_uri": "https://localhost:8080/"
        },
        "id": "1d1f4113",
        "outputId": "4328b1ab-bcad-4c51-95ca-52840b22f7c7"
      },
      "source": [
        "toxic_text = \"This is a really bad comment.\"\n",
        "toxic_batch = tokenizer.encode(toxic_text, return_tensors=\"pt\")\n",
        "toxic_output = model(toxic_batch)\n",
        "print(f\"Input: '{toxic_text}'\")\n",
        "print(f\"Output: {toxic_output.logits}\")\n",
        "\n",
        "# Interpret the output: higher value for index 1 indicates higher toxicity\n",
        "if toxic_output.logits[0][1] > toxic_output.logits[0][0]:\n",
        "    print(\"Interpretation: This text is likely toxic.\")\n",
        "else:\n",
        "    print(\"Interpretation: This text is likely neutral.\")"
      ],
      "execution_count": 6,
      "outputs": [
        {
          "output_type": "stream",
          "name": "stdout",
          "text": [
            "Input: 'This is a really bad comment.'\n",
            "Output: tensor([[ 3.8917, -3.0468]], grad_fn=<AddmmBackward0>)\n",
            "Interpretation: This text is likely neutral.\n"
          ]
        }
      ]
    },
    {
      "cell_type": "markdown",
      "metadata": {
        "id": "16212449"
      },
      "source": [
        "Now, let's try another neutral example."
      ]
    },
    {
      "cell_type": "code",
      "metadata": {
        "colab": {
          "base_uri": "https://localhost:8080/"
        },
        "id": "5b2c1fe2",
        "outputId": "078c1112-e420-4be6-e6b1-40c79b49f6f6"
      },
      "source": [
        "neutral_text = \"The weather is nice today.\"\n",
        "neutral_batch = tokenizer.encode(neutral_text, return_tensors=\"pt\")\n",
        "neutral_output = model(neutral_batch)\n",
        "print(f\"Input: '{neutral_text}'\")\n",
        "print(f\"Output: {neutral_output.logits}\")\n",
        "\n",
        "if neutral_output.logits[0][1] > neutral_output.logits[0][0]:\n",
        "    print(\"Interpretation: This text is likely toxic.\")\n",
        "else:\n",
        "    print(\"Interpretation: This text is likely neutral.\")"
      ],
      "execution_count": 7,
      "outputs": [
        {
          "output_type": "stream",
          "name": "stdout",
          "text": [
            "Input: 'The weather is nice today.'\n",
            "Output: tensor([[ 4.1418, -3.1912]], grad_fn=<AddmmBackward0>)\n",
            "Interpretation: This text is likely neutral.\n"
          ]
        }
      ]
    },
    {
      "cell_type": "markdown",
      "metadata": {
        "id": "2c6713ad"
      },
      "source": [
        "We can also test with a mixed example."
      ]
    },
    {
      "cell_type": "code",
      "metadata": {
        "colab": {
          "base_uri": "https://localhost:8080/"
        },
        "id": "14586583",
        "outputId": "5737114a-a536-4459-b5d1-ffe37be411f3"
      },
      "source": [
        "mixed_text = \"That's a great idea, but the execution was fucked.\"\n",
        "mixed_batch = tokenizer.encode(mixed_text, return_tensors=\"pt\")\n",
        "mixed_output = model(mixed_batch)\n",
        "print(f\"Input: '{mixed_text}'\")\n",
        "print(f\"Output: {mixed_output.logits}\")\n",
        "\n",
        "if mixed_output.logits[0][1] > mixed_output.logits[0][0]:\n",
        "    print(\"Interpretation: This text is likely toxic.\")\n",
        "else:\n",
        "    print(\"Interpretation: This text is likely neutral.\")"
      ],
      "execution_count": 9,
      "outputs": [
        {
          "output_type": "stream",
          "name": "stdout",
          "text": [
            "Input: 'That's a great idea, but the execution was fucked.'\n",
            "Output: tensor([[-1.9184,  2.4208]], grad_fn=<AddmmBackward0>)\n",
            "Interpretation: This text is likely toxic.\n"
          ]
        }
      ]
    },
    {
      "cell_type": "markdown",
      "metadata": {
        "id": "5867b862"
      },
      "source": [
        "Remember, the model outputs logits, where index 0 corresponds to 'neutral' and index 1 corresponds to 'toxic'. A higher logit value for a given index indicates a higher probability of that class."
      ]
    },
    {
      "cell_type": "markdown",
      "metadata": {
        "id": "6c6acdc5"
      },
      "source": [
        "# Task\n",
        "Create a Gradio chat UI that predicts text toxicity. The UI should be elegant with a chat-like appearance. Toxic text predictions should appear in red, and neutral predictions in green. Use elegant background colors."
      ]
    },
    {
      "cell_type": "markdown",
      "metadata": {
        "id": "dad4e08e"
      },
      "source": [
        "## Install gradio\n",
        "\n",
        "### Subtask:\n",
        "Install the Gradio library.\n"
      ]
    },
    {
      "cell_type": "markdown",
      "metadata": {
        "id": "b48e0471"
      },
      "source": [
        "**Reasoning**:\n",
        "The subtask is to install the Gradio library. I will use pip to install it.\n",
        "\n"
      ]
    },
    {
      "cell_type": "code",
      "metadata": {
        "id": "393de4db"
      },
      "source": [
        "%pip install gradio -q"
      ],
      "execution_count": 10,
      "outputs": []
    },
    {
      "cell_type": "markdown",
      "metadata": {
        "id": "a3716725"
      },
      "source": [
        "## Import necessary libraries\n",
        "\n",
        "### Subtask:\n",
        "Import `gradio` and other required libraries.\n"
      ]
    },
    {
      "cell_type": "markdown",
      "metadata": {
        "id": "1c4cde95"
      },
      "source": [
        "**Reasoning**:\n",
        "Import the necessary libraries for building the Gradio UI, including `gradio`, and ensure that `torch` and the required classes from `transformers` are available.\n",
        "\n"
      ]
    },
    {
      "cell_type": "code",
      "metadata": {
        "id": "4bc98d12"
      },
      "source": [
        "import gradio as gr\n",
        "import torch\n",
        "from transformers import AutoTokenizer, AutoModelForSequenceClassification"
      ],
      "execution_count": 11,
      "outputs": []
    },
    {
      "cell_type": "markdown",
      "metadata": {
        "id": "d1020ab6"
      },
      "source": [
        "## Define the prediction function\n",
        "\n",
        "### Subtask:\n",
        "Create a function that takes text input, uses the loaded model to predict toxicity, and returns styled output (red for toxic, green for neutral).\n"
      ]
    },
    {
      "cell_type": "markdown",
      "metadata": {
        "id": "f783e1fd"
      },
      "source": [
        "**Reasoning**:\n",
        "Define a Python function that takes text input, uses the loaded model to predict toxicity, and returns styled output based on the prediction.\n",
        "\n"
      ]
    },
    {
      "cell_type": "code",
      "metadata": {
        "id": "e87b4a84"
      },
      "source": [
        "def predict_toxicity_styled(text):\n",
        "    \"\"\"\n",
        "    Predicts toxicity of the input text and returns the text styled in red for toxic or green for neutral.\n",
        "\n",
        "    Args:\n",
        "        text: The input text string.\n",
        "\n",
        "    Returns:\n",
        "        The input text wrapped in HTML span tags with color styling.\n",
        "    \"\"\"\n",
        "    batch = tokenizer.encode(text, return_tensors=\"pt\")\n",
        "    output = model(batch)\n",
        "\n",
        "    # Determine if the text is toxic or neutral based on logit comparison\n",
        "    if output.logits[0][1] > output.logits[0][0]:\n",
        "        # Toxic: return red styled text\n",
        "        return f'<span style=\"color: red;\">{text}</span>'\n",
        "    else:\n",
        "        # Neutral: return green styled text\n",
        "        return f'<span style=\"color: green;\">{text}</span>'"
      ],
      "execution_count": 12,
      "outputs": []
    },
    {
      "cell_type": "markdown",
      "metadata": {
        "id": "7c2ef12d"
      },
      "source": [
        "## Define the gradio interface\n",
        "\n",
        "### Subtask:\n",
        "Set up the Gradio interface with a chat-like appearance, including input and output components.\n"
      ]
    },
    {
      "cell_type": "markdown",
      "metadata": {
        "id": "4ac69068"
      },
      "source": [
        "**Reasoning**:\n",
        "Set up the Gradio interface with the defined prediction function, input and output components, title, and potentially CSS for styling.\n",
        "\n"
      ]
    },
    {
      "cell_type": "code",
      "metadata": {
        "colab": {
          "base_uri": "https://localhost:8080/",
          "height": 645
        },
        "id": "9f0cc6e6",
        "outputId": "01526a87-97b3-430c-d1f7-bf34082c222b"
      },
      "source": [
        "css = \"\"\"\n",
        "body {\n",
        "    background-color: #e8f5e9; /* Light green background */\n",
        "    font-family: 'Arial', sans-serif;\n",
        "    margin: 0;\n",
        "    padding: 20px;\n",
        "}\n",
        ".gradio-container {\n",
        "    box-shadow: 0 4px 8px rgba(0, 0, 0, 0.2); /* More pronounced shadow */\n",
        "    border-radius: 15px; /* More rounded corners */\n",
        "    overflow: hidden;\n",
        "    background-color: #ffffff; /* White background for the container */\n",
        "    max-width: 800px; /* Limit maximum width */\n",
        "    margin: 20px auto; /* Center the container */\n",
        "}\n",
        ".message {\n",
        "    padding: 12px 15px; /* Increased padding */\n",
        "    margin: 8px; /* Increased margin */\n",
        "    border-radius: 18px; /* More rounded message bubbles */\n",
        "    max-width: 75%; /* Slightly increased max width */\n",
        "    word-wrap: break-word;\n",
        "    font-size: 1em; /* Standard font size */\n",
        "    line-height: 1.4; /* Improved line spacing */\n",
        "}\n",
        ".message.user {\n",
        "    background-color: #a5d6a7; /* Medium green for user messages */\n",
        "    margin-left: auto;\n",
        "    text-align: right;\n",
        "    color: #1b5e20; /* Dark green text */\n",
        "}\n",
        ".message.bot {\n",
        "    background-color: #e0e0e0; /* Light grey for bot messages */\n",
        "    margin-right: auto;\n",
        "    text-align: left;\n",
        "    color: #424242; /* Dark grey text */\n",
        "}\n",
        "\n",
        "/* Specific styling for toxicity output within bot messages */\n",
        ".message.bot span {\n",
        "    font-weight: bold; /* Make the toxic/neutral text bold */\n",
        "}\n",
        "\n",
        ".message.bot span[style*=\"color: red\"] {\n",
        "    color: #c62828 !important; /* Darker red for toxic */\n",
        "}\n",
        "\n",
        ".message.bot span[style*=\"color: green\"] {\n",
        "    color: #2e7d32 !important; /* Darker green for neutral */\n",
        "}\n",
        "\n",
        "h1 {\n",
        "    color: #388e3c; /* Green title color */\n",
        "    text-align: center;\n",
        "    padding-top: 20px;\n",
        "}\n",
        "\n",
        ".gradio-description {\n",
        "    text-align: center;\n",
        "    color: #558b2f; /* Darker green description color */\n",
        "    margin-bottom: 20px;\n",
        "}\n",
        "\n",
        ".gradio-textbox label {\n",
        "    font-weight: bold;\n",
        "    color: #33691e; /* Even darker green for label */\n",
        "}\n",
        "\"\"\"\n",
        "\n",
        "interface = gr.Interface(\n",
        "    fn=predict_toxicity_styled,\n",
        "    inputs=gr.Textbox(label=\"Enter Text\", lines=3, placeholder=\"Type your message here...\"), # Added placeholder and more lines\n",
        "    outputs=gr.HTML(), # Keep as HTML to render styled text\n",
        "    title=\"Creative Text Toxicity Predictor Chat\", # More creative title\n",
        "    description=\"Enter text to see if it's predicted as toxic (red) or neutral (green) in this elegant chat interface.\", # More descriptive\n",
        "    css=css,\n",
        "    live=True\n",
        ")\n",
        "\n",
        "interface.launch()"
      ],
      "execution_count": 14,
      "outputs": [
        {
          "output_type": "stream",
          "name": "stdout",
          "text": [
            "It looks like you are running Gradio on a hosted Jupyter notebook, which requires `share=True`. Automatically setting `share=True` (you can turn this off by setting `share=False` in `launch()` explicitly).\n",
            "\n",
            "Colab notebook detected. To show errors in colab notebook, set debug=True in launch()\n",
            "* Running on public URL: https://aa677fa9147720f071.gradio.live\n",
            "\n",
            "This share link expires in 1 week. For free permanent hosting and GPU upgrades, run `gradio deploy` from the terminal in the working directory to deploy to Hugging Face Spaces (https://huggingface.co/spaces)\n"
          ]
        },
        {
          "output_type": "display_data",
          "data": {
            "text/plain": [
              "<IPython.core.display.HTML object>"
            ],
            "text/html": [
              "<div><iframe src=\"https://aa677fa9147720f071.gradio.live\" width=\"100%\" height=\"500\" allow=\"autoplay; camera; microphone; clipboard-read; clipboard-write;\" frameborder=\"0\" allowfullscreen></iframe></div>"
            ]
          },
          "metadata": {}
        },
        {
          "output_type": "execute_result",
          "data": {
            "text/plain": []
          },
          "metadata": {},
          "execution_count": 14
        }
      ]
    },
    {
      "cell_type": "markdown",
      "metadata": {
        "id": "97a8cbfa"
      },
      "source": [
        "## Summary:\n",
        "\n",
        "### Data Analysis Key Findings\n",
        "\n",
        "*   The Gradio library was successfully installed and imported along with necessary libraries from the `transformers` library (`AutoTokenizer`, `AutoModelForSequenceClassification`) and `torch`.\n",
        "*   A Python function `predict_toxicity_styled` was defined to predict text toxicity using a pre-loaded model and return the text styled in red for toxic predictions and green for neutral predictions using HTML `<span>` tags. The prediction logic is based on comparing the logits of the neutral and toxic classes.\n",
        "*   A Gradio interface was successfully set up using `gr.Interface` with the `predict_toxicity_styled` function assigned to the `fn` parameter.\n",
        "*   The interface uses `gr.Textbox` for input and `gr.HTML` for output to display the styled text.\n",
        "*   Custom CSS was applied to give the interface a chat-like appearance with background colors and styling for messages.\n",
        "*   The Gradio interface was launched using `interface.launch()`.\n",
        "\n",
        "### Insights or Next Steps\n",
        "\n",
        "*   The current setup provides a basic styled output for toxicity prediction, but a true chat interface would require managing and displaying a history of messages.\n",
        "*   Consider integrating a more sophisticated chat interface component in Gradio that handles the conversation flow and displays both user input and styled bot responses in sequence.\n"
      ]
    }
  ]
}